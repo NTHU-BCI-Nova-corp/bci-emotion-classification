{
 "cells": [
  {
   "cell_type": "code",
   "execution_count": 1,
   "metadata": {
    "_cell_guid": "79c7e3d0-c299-4dcb-8224-4455121ee9b0",
    "_uuid": "d629ff2d2480ee46fbb7e2d37f6b5fab8052498a",
    "execution": {
     "iopub.execute_input": "2020-12-15T00:35:32.192492Z",
     "iopub.status.busy": "2020-12-15T00:35:32.191872Z",
     "iopub.status.idle": "2020-12-15T00:35:37.072918Z",
     "shell.execute_reply": "2020-12-15T00:35:37.071810Z"
    },
    "papermill": {
     "duration": 4.895897,
     "end_time": "2020-12-15T00:35:37.073041",
     "exception": false,
     "start_time": "2020-12-15T00:35:32.177144",
     "status": "completed"
    },
    "tags": [],
    "pycharm": {
     "name": "#%%\n"
    }
   },
   "outputs": [],
   "source": [
    "import numpy as np\n",
    "import pandas as pd\n",
    "import matplotlib.pyplot as plt\n",
    "import seaborn as sns\n",
    "from sklearn.model_selection import train_test_split\n",
    "import tensorflow as tf\n",
    "from sklearn.metrics import confusion_matrix, classification_report"
   ]
  },
  {
   "cell_type": "markdown",
   "metadata": {
    "pycharm": {
     "name": "#%% md\n"
    }
   },
   "source": [
    "## DATA"
   ]
  },
  {
   "cell_type": "code",
   "execution_count": 74,
   "metadata": {
    "execution": {
     "iopub.execute_input": "2020-12-15T00:35:37.106424Z",
     "iopub.status.busy": "2020-12-15T00:35:37.105915Z",
     "iopub.status.idle": "2020-12-15T00:35:39.584291Z",
     "shell.execute_reply": "2020-12-15T00:35:39.585305Z"
    },
    "papermill": {
     "duration": 2.502166,
     "end_time": "2020-12-15T00:35:39.585464",
     "exception": false,
     "start_time": "2020-12-15T00:35:37.083298",
     "status": "completed"
    },
    "tags": [],
    "pycharm": {
     "name": "#%%\n"
    }
   },
   "outputs": [],
   "source": [
    "data = pd.read_csv('../eeg-feature-extractor/dataset/generated_data/final_data.csv')"
   ]
  },
  {
   "cell_type": "code",
   "execution_count": 75,
   "metadata": {
    "execution": {
     "iopub.execute_input": "2020-12-15T00:35:39.642316Z",
     "iopub.status.busy": "2020-12-15T00:35:39.641527Z",
     "iopub.status.idle": "2020-12-15T00:35:39.691202Z",
     "shell.execute_reply": "2020-12-15T00:35:39.692337Z"
    },
    "papermill": {
     "duration": 0.078786,
     "end_time": "2020-12-15T00:35:39.692513",
     "exception": false,
     "start_time": "2020-12-15T00:35:39.613727",
     "status": "completed"
    },
    "tags": [],
    "pycharm": {
     "name": "#%%\n"
    }
   },
   "outputs": [
    {
     "data": {
      "text/plain": "       lag1_mean_0  lag1_mean_1  lag1_mean_2  lag1_mean_3  lag1_mean_d_h2h1_0  \\\n0        26.292077    32.865077    24.845962   -29.259269            1.859933   \n1        40.414769    36.639808   -11.793885    19.249423            2.725221   \n2        21.640560    31.894480    51.054680    14.980480            5.415337   \n3        23.828120    23.808600    23.886680     4.863320           -3.913736   \n4        28.164080     3.828240   -13.671800    12.558640          -20.869651   \n...            ...          ...          ...          ...                 ...   \n25359    27.519480    25.195360    32.167920    20.195360            3.559557   \n25360    23.925769    35.794769    18.742500    -7.887692           -7.853884   \n25361    17.277692    15.418346     3.211346     3.418000            1.517070   \n25362    25.578346    35.494346   -83.195654    19.343385            5.524716   \n25363    15.155346    28.846269   -16.263500     7.718500          -33.758255   \n\n       lag1_mean_d_h2h1_1  lag1_mean_d_h2h1_2  lag1_mean_d_h2h1_3  \\\n0               -6.586517           -5.309462            0.140703   \n1                3.546885          -63.829962            3.445867   \n2                7.765861           10.268994            6.634474   \n3               -0.259066            3.497041           -0.726529   \n4                2.120110           -2.088518           -2.340146   \n...                   ...                 ...                 ...   \n25359            9.178611           -3.560455            1.761258   \n25360           -8.783306            0.505312           -1.733541   \n25361           -5.450715            6.147702           -7.824086   \n25362            2.726764          -40.781198           -6.550431   \n25363           -1.045398          -63.582424          -32.112518   \n\n       lag1_mean_q1_0  lag1_mean_q1_1  ...    freq_669_3    freq_679_3  \\\n0           20.156937       35.783887  ...  1.674765e-17  6.620091e-18   \n1           36.493201       31.565469  ...  1.474801e-17  1.645999e-17   \n2           19.995210       27.456562  ...  1.077673e-17  5.636804e-18   \n3           25.791326       22.918067  ...  1.726309e-17  5.967269e-18   \n4           42.671140        1.937435  ...  1.727201e-17  1.330757e-17   \n...               ...             ...  ...           ...           ...   \n25359       29.326666       20.897914  ...  3.774758e-17  2.847409e-17   \n25360       25.950468       37.251835  ...  4.186913e-18  1.850372e-17   \n25361       19.560808       23.383188  ...  1.831027e-17  1.924387e-17   \n25362       24.883060       31.300122  ...  8.853308e-18  9.612761e-18   \n25363       33.774698       30.298727  ...  3.850374e-18  1.354221e-17   \n\n         freq_689_3    freq_699_3    freq_709_3    freq_720_3    freq_730_3  \\\n0      9.930137e-18  6.103422e-18  1.309457e-17  5.879300e-18  2.134915e-17   \n1      1.671107e-17  8.184104e-18  1.782514e-17  1.524509e-17  1.507436e-17   \n2      1.655023e-17  8.889491e-18  2.072416e-17  1.220684e-17  9.621933e-18   \n3      2.960595e-18  1.837373e-17  2.649329e-17  5.921189e-18  2.134915e-17   \n4      5.178562e-18  1.098441e-17  7.806727e-18  8.950904e-18  1.376756e-17   \n...             ...           ...           ...           ...           ...   \n25359  5.967269e-18  2.155345e-17  1.184238e-17  2.590520e-18  6.620091e-18   \n25360  4.186913e-18  5.967269e-18  2.386908e-17  1.674765e-17  2.960595e-18   \n25361  1.067458e-17  1.509613e-17  4.026844e-17  1.324018e-17  1.132814e-17   \n25362  3.518444e-18  1.393073e-17  5.298658e-18  8.709656e-18  1.985424e-17   \n25363  1.104038e-17  1.655023e-18  3.814639e-18  7.070260e-18  1.165890e-17   \n\n         freq_740_3    freq_750_3  Label  \n0      2.134915e-17  1.046728e-17    0.0  \n1      1.750167e-17  9.034666e-18    2.0  \n2      1.193454e-17  3.005587e-17    1.0  \n3      6.620091e-18  7.489778e-17    0.0  \n4      6.103422e-18  1.036869e-17    2.0  \n...             ...           ...    ...  \n25359  1.067458e-17  2.368476e-17    0.0  \n25360  1.814497e-17  2.960595e-17    0.0  \n25361  1.324018e-17  3.019226e-17    1.0  \n25362  8.334893e-18  1.866951e-17    2.0  \n25363  5.636804e-18  1.872445e-17    2.0  \n\n[25364 rows x 989 columns]",
      "text/html": "<div>\n<style scoped>\n    .dataframe tbody tr th:only-of-type {\n        vertical-align: middle;\n    }\n\n    .dataframe tbody tr th {\n        vertical-align: top;\n    }\n\n    .dataframe thead th {\n        text-align: right;\n    }\n</style>\n<table border=\"1\" class=\"dataframe\">\n  <thead>\n    <tr style=\"text-align: right;\">\n      <th></th>\n      <th>lag1_mean_0</th>\n      <th>lag1_mean_1</th>\n      <th>lag1_mean_2</th>\n      <th>lag1_mean_3</th>\n      <th>lag1_mean_d_h2h1_0</th>\n      <th>lag1_mean_d_h2h1_1</th>\n      <th>lag1_mean_d_h2h1_2</th>\n      <th>lag1_mean_d_h2h1_3</th>\n      <th>lag1_mean_q1_0</th>\n      <th>lag1_mean_q1_1</th>\n      <th>...</th>\n      <th>freq_669_3</th>\n      <th>freq_679_3</th>\n      <th>freq_689_3</th>\n      <th>freq_699_3</th>\n      <th>freq_709_3</th>\n      <th>freq_720_3</th>\n      <th>freq_730_3</th>\n      <th>freq_740_3</th>\n      <th>freq_750_3</th>\n      <th>Label</th>\n    </tr>\n  </thead>\n  <tbody>\n    <tr>\n      <th>0</th>\n      <td>26.292077</td>\n      <td>32.865077</td>\n      <td>24.845962</td>\n      <td>-29.259269</td>\n      <td>1.859933</td>\n      <td>-6.586517</td>\n      <td>-5.309462</td>\n      <td>0.140703</td>\n      <td>20.156937</td>\n      <td>35.783887</td>\n      <td>...</td>\n      <td>1.674765e-17</td>\n      <td>6.620091e-18</td>\n      <td>9.930137e-18</td>\n      <td>6.103422e-18</td>\n      <td>1.309457e-17</td>\n      <td>5.879300e-18</td>\n      <td>2.134915e-17</td>\n      <td>2.134915e-17</td>\n      <td>1.046728e-17</td>\n      <td>0.0</td>\n    </tr>\n    <tr>\n      <th>1</th>\n      <td>40.414769</td>\n      <td>36.639808</td>\n      <td>-11.793885</td>\n      <td>19.249423</td>\n      <td>2.725221</td>\n      <td>3.546885</td>\n      <td>-63.829962</td>\n      <td>3.445867</td>\n      <td>36.493201</td>\n      <td>31.565469</td>\n      <td>...</td>\n      <td>1.474801e-17</td>\n      <td>1.645999e-17</td>\n      <td>1.671107e-17</td>\n      <td>8.184104e-18</td>\n      <td>1.782514e-17</td>\n      <td>1.524509e-17</td>\n      <td>1.507436e-17</td>\n      <td>1.750167e-17</td>\n      <td>9.034666e-18</td>\n      <td>2.0</td>\n    </tr>\n    <tr>\n      <th>2</th>\n      <td>21.640560</td>\n      <td>31.894480</td>\n      <td>51.054680</td>\n      <td>14.980480</td>\n      <td>5.415337</td>\n      <td>7.765861</td>\n      <td>10.268994</td>\n      <td>6.634474</td>\n      <td>19.995210</td>\n      <td>27.456562</td>\n      <td>...</td>\n      <td>1.077673e-17</td>\n      <td>5.636804e-18</td>\n      <td>1.655023e-17</td>\n      <td>8.889491e-18</td>\n      <td>2.072416e-17</td>\n      <td>1.220684e-17</td>\n      <td>9.621933e-18</td>\n      <td>1.193454e-17</td>\n      <td>3.005587e-17</td>\n      <td>1.0</td>\n    </tr>\n    <tr>\n      <th>3</th>\n      <td>23.828120</td>\n      <td>23.808600</td>\n      <td>23.886680</td>\n      <td>4.863320</td>\n      <td>-3.913736</td>\n      <td>-0.259066</td>\n      <td>3.497041</td>\n      <td>-0.726529</td>\n      <td>25.791326</td>\n      <td>22.918067</td>\n      <td>...</td>\n      <td>1.726309e-17</td>\n      <td>5.967269e-18</td>\n      <td>2.960595e-18</td>\n      <td>1.837373e-17</td>\n      <td>2.649329e-17</td>\n      <td>5.921189e-18</td>\n      <td>2.134915e-17</td>\n      <td>6.620091e-18</td>\n      <td>7.489778e-17</td>\n      <td>0.0</td>\n    </tr>\n    <tr>\n      <th>4</th>\n      <td>28.164080</td>\n      <td>3.828240</td>\n      <td>-13.671800</td>\n      <td>12.558640</td>\n      <td>-20.869651</td>\n      <td>2.120110</td>\n      <td>-2.088518</td>\n      <td>-2.340146</td>\n      <td>42.671140</td>\n      <td>1.937435</td>\n      <td>...</td>\n      <td>1.727201e-17</td>\n      <td>1.330757e-17</td>\n      <td>5.178562e-18</td>\n      <td>1.098441e-17</td>\n      <td>7.806727e-18</td>\n      <td>8.950904e-18</td>\n      <td>1.376756e-17</td>\n      <td>6.103422e-18</td>\n      <td>1.036869e-17</td>\n      <td>2.0</td>\n    </tr>\n    <tr>\n      <th>...</th>\n      <td>...</td>\n      <td>...</td>\n      <td>...</td>\n      <td>...</td>\n      <td>...</td>\n      <td>...</td>\n      <td>...</td>\n      <td>...</td>\n      <td>...</td>\n      <td>...</td>\n      <td>...</td>\n      <td>...</td>\n      <td>...</td>\n      <td>...</td>\n      <td>...</td>\n      <td>...</td>\n      <td>...</td>\n      <td>...</td>\n      <td>...</td>\n      <td>...</td>\n      <td>...</td>\n    </tr>\n    <tr>\n      <th>25359</th>\n      <td>27.519480</td>\n      <td>25.195360</td>\n      <td>32.167920</td>\n      <td>20.195360</td>\n      <td>3.559557</td>\n      <td>9.178611</td>\n      <td>-3.560455</td>\n      <td>1.761258</td>\n      <td>29.326666</td>\n      <td>20.897914</td>\n      <td>...</td>\n      <td>3.774758e-17</td>\n      <td>2.847409e-17</td>\n      <td>5.967269e-18</td>\n      <td>2.155345e-17</td>\n      <td>1.184238e-17</td>\n      <td>2.590520e-18</td>\n      <td>6.620091e-18</td>\n      <td>1.067458e-17</td>\n      <td>2.368476e-17</td>\n      <td>0.0</td>\n    </tr>\n    <tr>\n      <th>25360</th>\n      <td>23.925769</td>\n      <td>35.794769</td>\n      <td>18.742500</td>\n      <td>-7.887692</td>\n      <td>-7.853884</td>\n      <td>-8.783306</td>\n      <td>0.505312</td>\n      <td>-1.733541</td>\n      <td>25.950468</td>\n      <td>37.251835</td>\n      <td>...</td>\n      <td>4.186913e-18</td>\n      <td>1.850372e-17</td>\n      <td>4.186913e-18</td>\n      <td>5.967269e-18</td>\n      <td>2.386908e-17</td>\n      <td>1.674765e-17</td>\n      <td>2.960595e-18</td>\n      <td>1.814497e-17</td>\n      <td>2.960595e-17</td>\n      <td>0.0</td>\n    </tr>\n    <tr>\n      <th>25361</th>\n      <td>17.277692</td>\n      <td>15.418346</td>\n      <td>3.211346</td>\n      <td>3.418000</td>\n      <td>1.517070</td>\n      <td>-5.450715</td>\n      <td>6.147702</td>\n      <td>-7.824086</td>\n      <td>19.560808</td>\n      <td>23.383188</td>\n      <td>...</td>\n      <td>1.831027e-17</td>\n      <td>1.924387e-17</td>\n      <td>1.067458e-17</td>\n      <td>1.509613e-17</td>\n      <td>4.026844e-17</td>\n      <td>1.324018e-17</td>\n      <td>1.132814e-17</td>\n      <td>1.324018e-17</td>\n      <td>3.019226e-17</td>\n      <td>1.0</td>\n    </tr>\n    <tr>\n      <th>25362</th>\n      <td>25.578346</td>\n      <td>35.494346</td>\n      <td>-83.195654</td>\n      <td>19.343385</td>\n      <td>5.524716</td>\n      <td>2.726764</td>\n      <td>-40.781198</td>\n      <td>-6.550431</td>\n      <td>24.883060</td>\n      <td>31.300122</td>\n      <td>...</td>\n      <td>8.853308e-18</td>\n      <td>9.612761e-18</td>\n      <td>3.518444e-18</td>\n      <td>1.393073e-17</td>\n      <td>5.298658e-18</td>\n      <td>8.709656e-18</td>\n      <td>1.985424e-17</td>\n      <td>8.334893e-18</td>\n      <td>1.866951e-17</td>\n      <td>2.0</td>\n    </tr>\n    <tr>\n      <th>25363</th>\n      <td>15.155346</td>\n      <td>28.846269</td>\n      <td>-16.263500</td>\n      <td>7.718500</td>\n      <td>-33.758255</td>\n      <td>-1.045398</td>\n      <td>-63.582424</td>\n      <td>-32.112518</td>\n      <td>33.774698</td>\n      <td>30.298727</td>\n      <td>...</td>\n      <td>3.850374e-18</td>\n      <td>1.354221e-17</td>\n      <td>1.104038e-17</td>\n      <td>1.655023e-18</td>\n      <td>3.814639e-18</td>\n      <td>7.070260e-18</td>\n      <td>1.165890e-17</td>\n      <td>5.636804e-18</td>\n      <td>1.872445e-17</td>\n      <td>2.0</td>\n    </tr>\n  </tbody>\n</table>\n<p>25364 rows × 989 columns</p>\n</div>"
     },
     "execution_count": 75,
     "metadata": {},
     "output_type": "execute_result"
    }
   ],
   "source": [
    "data"
   ]
  },
  {
   "cell_type": "code",
   "execution_count": 70,
   "metadata": {
    "execution": {
     "iopub.execute_input": "2020-12-15T00:35:39.732353Z",
     "iopub.status.busy": "2020-12-15T00:35:39.731777Z",
     "iopub.status.idle": "2020-12-15T00:35:40.088862Z",
     "shell.execute_reply": "2020-12-15T00:35:40.088383Z"
    },
    "papermill": {
     "duration": 0.378429,
     "end_time": "2020-12-15T00:35:40.088959",
     "exception": false,
     "start_time": "2020-12-15T00:35:39.710530",
     "status": "completed"
    },
    "tags": [],
    "pycharm": {
     "name": "#%%\n"
    }
   },
   "outputs": [
    {
     "data": {
      "text/plain": "<Figure size 1440x720 with 1 Axes>",
      "image/png": "[encoded data removed]"
     },
     "metadata": {
      "needs_background": "light"
     },
     "output_type": "display_data"
    }
   ],
   "source": [
    "#Visualization Example (of 1 row of data, and visualizing only the FFTs):\n",
    "sample = data.loc[0,'freq_010_0':'freq_750_0']\n",
    "x_label = []\n",
    "for i,s in enumerate(sample.keys()):\n",
    "    x_label.append(s.replace(\"freq_0\",\"\").replace(\"freq_\",\"\").replace(\"_0\",\"\"))\n",
    "\n",
    "plt.figure(figsize=(20,10))\n",
    "plt.plot(range(len(sample)), sample)\n",
    "#plt.xlabel(xlabel= x_label)\n",
    "plt.show()"
   ]
  },
  {
   "cell_type": "code",
   "execution_count": 66,
   "outputs": [
    {
     "data": {
      "text/plain": "('freq_010_0', 'freq_010_1', 'freq_010_2', 'freq_010_3')"
     },
     "execution_count": 66,
     "metadata": {},
     "output_type": "execute_result"
    }
   ],
   "source": [
    "#Looking at max frequencies of each channel\n",
    "row = 2\n",
    "\n",
    "freq_0_ = data.loc[row,'freq_010_0':'freq_750_0']\n",
    "freq_0_position = np.argmax(freq_0_)\n",
    "\n",
    "freq_1_ = data.loc[row,'freq_010_1':'freq_750_1']\n",
    "freq_1_position = np.argmax(freq_1_)\n",
    "\n",
    "freq_2_ = data.loc[row,'freq_010_2':'freq_750_2']\n",
    "freq_2_position = np.argmax(freq_2_)\n",
    "\n",
    "freq_3_ = data.loc[row,'freq_010_3':'freq_750_3']\n",
    "freq_3_position = np.argmax(freq_3_)\n",
    "\n",
    "freq_0_.index[freq_0_position], freq_1_.index[freq_1_position] , freq_2_.index[freq_2_position], freq_3_.index[freq_3_position]"
   ],
   "metadata": {
    "collapsed": false,
    "pycharm": {
     "name": "#%%\n"
    }
   }
  },
  {
   "cell_type": "code",
   "execution_count": 5,
   "outputs": [],
   "source": [
    "# To train only on the FFTs frequencies\n",
    "x_freq = data.loc[:, 'freq_010_0':'freq_750_3']"
   ],
   "metadata": {
    "collapsed": false,
    "pycharm": {
     "name": "#%%\n"
    }
   }
  },
  {
   "cell_type": "code",
   "execution_count": 6,
   "metadata": {
    "execution": {
     "iopub.execute_input": "2020-12-15T00:35:40.124698Z",
     "iopub.status.busy": "2020-12-15T00:35:40.123804Z",
     "iopub.status.idle": "2020-12-15T00:35:40.128308Z",
     "shell.execute_reply": "2020-12-15T00:35:40.127652Z"
    },
    "papermill": {
     "duration": 0.024771,
     "end_time": "2020-12-15T00:35:40.128400",
     "exception": false,
     "start_time": "2020-12-15T00:35:40.103629",
     "status": "completed"
    },
    "tags": [],
    "pycharm": {
     "name": "#%%\n"
    }
   },
   "outputs": [
    {
     "data": {
      "text/plain": "2.0    8506\n1.0    8477\n0.0    8381\nName: Label, dtype: int64"
     },
     "execution_count": 6,
     "metadata": {},
     "output_type": "execute_result"
    }
   ],
   "source": [
    "#Unique Value Counts from each target:\n",
    "data['Label'].value_counts()"
   ]
  },
  {
   "cell_type": "code",
   "execution_count": 10,
   "metadata": {
    "execution": {
     "iopub.execute_input": "2020-12-15T00:35:40.267226Z",
     "iopub.status.busy": "2020-12-15T00:35:40.266130Z",
     "iopub.status.idle": "2020-12-15T00:35:40.344241Z",
     "shell.execute_reply": "2020-12-15T00:35:40.343679Z"
    },
    "papermill": {
     "duration": 0.096724,
     "end_time": "2020-12-15T00:35:40.344343",
     "exception": false,
     "start_time": "2020-12-15T00:35:40.247619",
     "status": "completed"
    },
    "tags": [],
    "pycharm": {
     "name": "#%%\n"
    }
   },
   "outputs": [],
   "source": [
    "X = data.drop('Label', axis=1).copy()\n",
    "y = data['Label'].copy()\n",
    "\n",
    "#This is to select between ALL FEATURES (including statistical values and FFTs) vs just FFTs features:\n",
    "#Comment one and uncomment the other to use either one:\n",
    "\n",
    "X_train, X_test, y_train, y_test = train_test_split(X, y, train_size=0.8, random_state=123)\n",
    "#X_train, X_test, y_train, y_test = train_test_split(x_freq, y, train_size=0.8, random_state=123)"
   ]
  },
  {
   "cell_type": "markdown",
   "source": [
    "# Splitting the data"
   ],
   "metadata": {
    "collapsed": false,
    "pycharm": {
     "name": "#%% md\n"
    }
   }
  },
  {
   "cell_type": "code",
   "execution_count": 8,
   "outputs": [],
   "source": [
    "#Mapping the Targets to Specific Label:\n",
    "\n",
    "label_mapping = {0:\"Relaxed\", 1:\"Neutral\", 2:\"Concentrating\"}\n",
    "\n",
    "states = list(label_mapping.values())"
   ],
   "metadata": {
    "collapsed": false,
    "pycharm": {
     "name": "#%%\n"
    }
   }
  },
  {
   "cell_type": "markdown",
   "metadata": {
    "papermill": {
     "duration": 0.015744,
     "end_time": "2020-12-15T00:35:40.440416",
     "exception": false,
     "start_time": "2020-12-15T00:35:40.424672",
     "status": "completed"
    },
    "tags": [],
    "pycharm": {
     "name": "#%% md\n"
    }
   },
   "source": [
    "# 1st Model: GRU"
   ]
  },
  {
   "cell_type": "code",
   "execution_count": 177,
   "metadata": {
    "execution": {
     "iopub.execute_input": "2020-12-15T00:35:40.479540Z",
     "iopub.status.busy": "2020-12-15T00:35:40.479022Z",
     "iopub.status.idle": "2020-12-15T00:35:43.281529Z",
     "shell.execute_reply": "2020-12-15T00:35:43.280743Z"
    },
    "papermill": {
     "duration": 2.825223,
     "end_time": "2020-12-15T00:35:43.281661",
     "exception": false,
     "start_time": "2020-12-15T00:35:40.456438",
     "status": "completed"
    },
    "tags": [],
    "pycharm": {
     "name": "#%%\n"
    }
   },
   "outputs": [
    {
     "name": "stdout",
     "output_type": "stream",
     "text": [
      "Model: \"model_3\"\n",
      "_________________________________________________________________\n",
      " Layer (type)                Output Shape              Param #   \n",
      "=================================================================\n",
      " input_4 (InputLayer)        [(None, 288)]             0         \n",
      "                                                                 \n",
      " tf.expand_dims_3 (TFOpLambd  (None, 288, 1)           0         \n",
      " a)                                                              \n",
      "                                                                 \n",
      " gru_3 (GRU)                 (None, 288, 256)          198912    \n",
      "                                                                 \n",
      " flatten_13 (Flatten)        (None, 73728)             0         \n",
      "                                                                 \n",
      " dense_11 (Dense)            (None, 3)                 221187    \n",
      "                                                                 \n",
      "=================================================================\n",
      "Total params: 420,099\n",
      "Trainable params: 420,099\n",
      "Non-trainable params: 0\n",
      "_________________________________________________________________\n",
      "None\n"
     ]
    }
   ],
   "source": [
    "inputs = tf.keras.Input(shape=(X_train.shape[1],))\n",
    "K = len(set(y_train.unique()))\n",
    "\n",
    "expand_dims = tf.expand_dims(inputs, axis=2)\n",
    "\n",
    "gru = tf.keras.layers.GRU(256, return_sequences=True)(expand_dims)\n",
    "#gru = tf.keras.layers.GRU(128, return_sequences=True)(gru)\n",
    "flatten = tf.keras.layers.Flatten()(gru)\n",
    "outputs = tf.keras.layers.Dense(K, activation='softmax')(flatten)\n",
    "\n",
    "\n",
    "model = tf.keras.Model(inputs=inputs, outputs=outputs)\n",
    "print(model.summary())"
   ]
  },
  {
   "cell_type": "code",
   "execution_count": 178,
   "metadata": {
    "execution": {
     "iopub.execute_input": "2020-12-15T00:35:43.327039Z",
     "iopub.status.busy": "2020-12-15T00:35:43.325471Z",
     "iopub.status.idle": "2020-12-15T00:36:33.472846Z",
     "shell.execute_reply": "2020-12-15T00:36:33.473926Z"
    },
    "papermill": {
     "duration": 50.175674,
     "end_time": "2020-12-15T00:36:33.474066",
     "exception": false,
     "start_time": "2020-12-15T00:35:43.298392",
     "status": "completed"
    },
    "tags": [],
    "pycharm": {
     "name": "#%%\n"
    }
   },
   "outputs": [
    {
     "name": "stdout",
     "output_type": "stream",
     "text": [
      "Epoch 1/50\n",
      "127/127 [==============================] - 8s 44ms/step - loss: 0.8936 - accuracy: 0.7084 - val_loss: 0.6464 - val_accuracy: 0.7859\n",
      "Epoch 2/50\n",
      "127/127 [==============================] - 5s 41ms/step - loss: 0.5541 - accuracy: 0.7926 - val_loss: 0.5042 - val_accuracy: 0.7933\n",
      "Epoch 3/50\n",
      "127/127 [==============================] - 5s 41ms/step - loss: 0.4578 - accuracy: 0.8073 - val_loss: 0.4354 - val_accuracy: 0.8120\n",
      "Epoch 4/50\n",
      "127/127 [==============================] - 5s 41ms/step - loss: 0.3936 - accuracy: 0.8239 - val_loss: 0.3606 - val_accuracy: 0.8364\n",
      "Epoch 5/50\n",
      "127/127 [==============================] - 5s 41ms/step - loss: 0.3512 - accuracy: 0.8436 - val_loss: 0.3320 - val_accuracy: 0.8463\n",
      "Epoch 6/50\n",
      "127/127 [==============================] - 5s 41ms/step - loss: 0.3373 - accuracy: 0.8483 - val_loss: 0.3273 - val_accuracy: 0.8399\n",
      "Epoch 7/50\n",
      "127/127 [==============================] - 5s 41ms/step - loss: 0.3227 - accuracy: 0.8553 - val_loss: 0.3151 - val_accuracy: 0.8505\n",
      "Epoch 8/50\n",
      "127/127 [==============================] - 5s 42ms/step - loss: 0.3199 - accuracy: 0.8545 - val_loss: 0.3230 - val_accuracy: 0.8413\n",
      "Epoch 9/50\n",
      "127/127 [==============================] - 5s 41ms/step - loss: 0.3135 - accuracy: 0.8581 - val_loss: 0.3025 - val_accuracy: 0.8709\n",
      "Epoch 10/50\n",
      "127/127 [==============================] - 5s 41ms/step - loss: 0.3020 - accuracy: 0.8680 - val_loss: 0.2983 - val_accuracy: 0.8613\n",
      "Epoch 11/50\n",
      "127/127 [==============================] - 5s 41ms/step - loss: 0.2928 - accuracy: 0.8729 - val_loss: 0.3130 - val_accuracy: 0.8519\n",
      "Epoch 12/50\n",
      "127/127 [==============================] - 5s 42ms/step - loss: 0.2846 - accuracy: 0.8794 - val_loss: 0.2955 - val_accuracy: 0.8618\n",
      "Epoch 13/50\n",
      "127/127 [==============================] - 5s 42ms/step - loss: 0.2729 - accuracy: 0.8857 - val_loss: 0.2818 - val_accuracy: 0.8758\n",
      "Epoch 14/50\n",
      "127/127 [==============================] - 5s 41ms/step - loss: 0.2624 - accuracy: 0.8953 - val_loss: 0.2608 - val_accuracy: 0.8992\n",
      "Epoch 15/50\n",
      "127/127 [==============================] - 5s 41ms/step - loss: 0.2508 - accuracy: 0.9005 - val_loss: 0.2512 - val_accuracy: 0.8980\n",
      "Epoch 16/50\n",
      "127/127 [==============================] - 5s 41ms/step - loss: 0.2440 - accuracy: 0.9037 - val_loss: 0.2453 - val_accuracy: 0.9024\n",
      "Epoch 17/50\n",
      "127/127 [==============================] - 5s 42ms/step - loss: 0.2328 - accuracy: 0.9084 - val_loss: 0.2621 - val_accuracy: 0.8881\n",
      "Epoch 18/50\n",
      "127/127 [==============================] - 5s 41ms/step - loss: 0.2269 - accuracy: 0.9115 - val_loss: 0.2285 - val_accuracy: 0.9098\n",
      "Epoch 19/50\n",
      "127/127 [==============================] - 5s 41ms/step - loss: 0.2195 - accuracy: 0.9135 - val_loss: 0.2244 - val_accuracy: 0.9113\n",
      "Epoch 20/50\n",
      "127/127 [==============================] - 5s 42ms/step - loss: 0.2211 - accuracy: 0.9118 - val_loss: 0.2211 - val_accuracy: 0.9128\n",
      "Epoch 21/50\n",
      "127/127 [==============================] - 5s 42ms/step - loss: 0.2095 - accuracy: 0.9162 - val_loss: 0.2222 - val_accuracy: 0.9076\n",
      "Epoch 22/50\n",
      "127/127 [==============================] - 5s 41ms/step - loss: 0.2057 - accuracy: 0.9200 - val_loss: 0.2037 - val_accuracy: 0.9209\n",
      "Epoch 23/50\n",
      "127/127 [==============================] - 5s 41ms/step - loss: 0.2046 - accuracy: 0.9207 - val_loss: 0.2102 - val_accuracy: 0.9170\n",
      "Epoch 24/50\n",
      "127/127 [==============================] - 5s 42ms/step - loss: 0.2013 - accuracy: 0.9210 - val_loss: 0.2155 - val_accuracy: 0.9153\n",
      "Epoch 25/50\n",
      "127/127 [==============================] - 5s 42ms/step - loss: 0.1987 - accuracy: 0.9213 - val_loss: 0.1981 - val_accuracy: 0.9199\n",
      "Epoch 26/50\n",
      "127/127 [==============================] - 5s 42ms/step - loss: 0.1981 - accuracy: 0.9227 - val_loss: 0.2046 - val_accuracy: 0.9207\n",
      "Epoch 27/50\n",
      "127/127 [==============================] - 5s 42ms/step - loss: 0.1937 - accuracy: 0.9231 - val_loss: 0.1965 - val_accuracy: 0.9241\n",
      "Epoch 28/50\n",
      "127/127 [==============================] - 5s 42ms/step - loss: 0.1921 - accuracy: 0.9232 - val_loss: 0.1986 - val_accuracy: 0.9254\n",
      "Epoch 29/50\n",
      "127/127 [==============================] - 5s 42ms/step - loss: 0.1892 - accuracy: 0.9266 - val_loss: 0.1871 - val_accuracy: 0.9261\n",
      "Epoch 30/50\n",
      "127/127 [==============================] - 5s 41ms/step - loss: 0.1891 - accuracy: 0.9248 - val_loss: 0.1882 - val_accuracy: 0.9300\n",
      "Epoch 31/50\n",
      "127/127 [==============================] - 5s 41ms/step - loss: 0.1833 - accuracy: 0.9267 - val_loss: 0.1869 - val_accuracy: 0.9229\n",
      "Epoch 32/50\n",
      "127/127 [==============================] - 5s 41ms/step - loss: 0.1799 - accuracy: 0.9283 - val_loss: 0.2016 - val_accuracy: 0.9160\n",
      "Epoch 33/50\n",
      "127/127 [==============================] - 5s 42ms/step - loss: 0.1795 - accuracy: 0.9280 - val_loss: 0.1836 - val_accuracy: 0.9283\n",
      "Epoch 34/50\n",
      "127/127 [==============================] - 5s 42ms/step - loss: 0.1768 - accuracy: 0.9283 - val_loss: 0.1799 - val_accuracy: 0.9313\n",
      "Epoch 35/50\n",
      "127/127 [==============================] - 5s 42ms/step - loss: 0.1780 - accuracy: 0.9286 - val_loss: 0.1922 - val_accuracy: 0.9273\n",
      "Epoch 36/50\n",
      "127/127 [==============================] - 5s 42ms/step - loss: 0.1758 - accuracy: 0.9298 - val_loss: 0.1877 - val_accuracy: 0.9283\n",
      "Epoch 37/50\n",
      "127/127 [==============================] - 5s 42ms/step - loss: 0.1722 - accuracy: 0.9309 - val_loss: 0.1856 - val_accuracy: 0.9313\n"
     ]
    }
   ],
   "source": [
    "model.compile(optimizer='adam', loss='sparse_categorical_crossentropy', metrics=['accuracy'])\n",
    "\n",
    "history = model.fit(X_train,y_train,validation_split=0.2,batch_size=128,epochs=50,\n",
    "    callbacks=[\n",
    "        tf.keras.callbacks.EarlyStopping(\n",
    "            monitor='val_loss',\n",
    "            patience=3,\n",
    "            restore_best_weights=True\n",
    "        )\n",
    "    ],\n",
    "    verbose = 1\n",
    ")"
   ]
  },
  {
   "cell_type": "markdown",
   "metadata": {
    "papermill": {
     "duration": 0.102137,
     "end_time": "2020-12-15T00:36:33.713048",
     "exception": false,
     "start_time": "2020-12-15T00:36:33.610911",
     "status": "completed"
    },
    "tags": [],
    "pycharm": {
     "name": "#%% md\n"
    }
   },
   "source": [
    "## GRU: Results"
   ]
  },
  {
   "cell_type": "code",
   "execution_count": 181,
   "metadata": {
    "execution": {
     "iopub.execute_input": "2020-12-15T00:36:33.938093Z",
     "iopub.status.busy": "2020-12-15T00:36:33.937229Z",
     "iopub.status.idle": "2020-12-15T00:36:35.458132Z",
     "shell.execute_reply": "2020-12-15T00:36:35.458702Z"
    },
    "papermill": {
     "duration": 1.643107,
     "end_time": "2020-12-15T00:36:35.458885",
     "exception": false,
     "start_time": "2020-12-15T00:36:33.815778",
     "status": "completed"
    },
    "tags": [],
    "pycharm": {
     "name": "#%%\n"
    }
   },
   "outputs": [
    {
     "name": "stdout",
     "output_type": "stream",
     "text": [
      "Test Accuracy: 93.298%\n"
     ]
    }
   ],
   "source": [
    "model_acc = model.evaluate(X_test, y_test, verbose=0)[1]\n",
    "print(\"Test Accuracy: {:.3f}%\".format(model_acc * 100))"
   ]
  },
  {
   "cell_type": "code",
   "execution_count": 182,
   "outputs": [
    {
     "data": {
      "text/plain": "<Figure size 576x576 with 1 Axes>",
      "image/png": "[encoded data removed]"
     },
     "metadata": {
      "needs_background": "light"
     },
     "output_type": "display_data"
    },
    {
     "name": "stdout",
     "output_type": "stream",
     "text": [
      "Classification Report:\n",
      "----------------------\n",
      "               precision    recall  f1-score   support\n",
      "\n",
      "         0.0       0.91      0.91      0.91      1692\n",
      "         1.0       0.90      0.90      0.90      1668\n",
      "         2.0       0.98      0.99      0.99      1713\n",
      "\n",
      "    accuracy                           0.93      5073\n",
      "   macro avg       0.93      0.93      0.93      5073\n",
      "weighted avg       0.93      0.93      0.93      5073\n",
      "\n"
     ]
    }
   ],
   "source": [
    "y_pred = np.array(list(map(lambda x: np.argmax(x), model.predict(X_test))))\n",
    "\n",
    "cm = confusion_matrix(y_test, y_pred)\n",
    "clr = classification_report(y_test, y_pred)\n",
    "\n",
    "plt.figure(figsize=(8, 8))\n",
    "sns.heatmap(cm, annot=True, vmin=0, fmt='g', cbar=False, cmap='Blues')\n",
    "plt.xticks(np.arange(3) + 0.5,states )\n",
    "plt.yticks(np.arange(3) + 0.5,states)\n",
    "plt.xlabel(\"Predicted\")\n",
    "plt.ylabel(\"Actual\")\n",
    "plt.title(\"Confusion Matrix\")\n",
    "plt.show()\n",
    "\n",
    "print(\"Classification Report:\\n----------------------\\n\", clr)"
   ],
   "metadata": {
    "collapsed": false,
    "pycharm": {
     "name": "#%%\n"
    }
   }
  },
  {
   "cell_type": "markdown",
   "metadata": {
    "pycharm": {
     "name": "#%% md\n"
    }
   },
   "source": [
    "## 2nd Model: SVM"
   ]
  },
  {
   "cell_type": "code",
   "execution_count": 183,
   "metadata": {
    "pycharm": {
     "name": "#%%\n"
    }
   },
   "outputs": [
    {
     "data": {
      "text/plain": "SVC(C=2, gamma='auto', kernel='linear')"
     },
     "execution_count": 183,
     "metadata": {},
     "output_type": "execute_result"
    }
   ],
   "source": [
    "from sklearn import svm\n",
    "\n",
    "svm_row_amount = 1000\n",
    "\n",
    "svm_x = X_train[0:svm_row_amount]\n",
    "svm_y = y_train[0:svm_row_amount]\n",
    "\n",
    "svm_classifier = svm.SVC(kernel=\"linear\", gamma=\"auto\", C=2)\n",
    "svm_classifier.fit(svm_x,svm_y)"
   ]
  },
  {
   "cell_type": "code",
   "execution_count": 184,
   "metadata": {
    "pycharm": {
     "name": "#%%\n"
    }
   },
   "outputs": [],
   "source": [
    "#Predictions on SVM:\n",
    "\n",
    "y_pred_svm = svm_classifier.predict(X_test[0:svm_row_amount])\n",
    "y_test_svm = y_test[0:svm_row_amount]"
   ]
  },
  {
   "cell_type": "markdown",
   "metadata": {
    "papermill": {
     "duration": 0.102137,
     "end_time": "2020-12-15T00:36:33.713048",
     "exception": false,
     "start_time": "2020-12-15T00:36:33.610911",
     "status": "completed"
    },
    "tags": [],
    "pycharm": {
     "name": "#%% md\n"
    }
   },
   "source": [
    "### SVM: Results"
   ]
  },
  {
   "cell_type": "code",
   "execution_count": 185,
   "outputs": [
    {
     "data": {
      "text/plain": "85.7"
     },
     "execution_count": 185,
     "metadata": {},
     "output_type": "execute_result"
    }
   ],
   "source": [
    "from sklearn.metrics import accuracy_score\n",
    "accuracy_score(y_test_svm, y_pred_svm)*100"
   ],
   "metadata": {
    "collapsed": false,
    "pycharm": {
     "name": "#%%\n"
    }
   }
  },
  {
   "cell_type": "code",
   "execution_count": 187,
   "metadata": {
    "pycharm": {
     "name": "#%%\n"
    }
   },
   "outputs": [
    {
     "data": {
      "text/plain": "<Figure size 576x576 with 1 Axes>",
      "image/png": "[encoded data removed]"
     },
     "metadata": {
      "needs_background": "light"
     },
     "output_type": "display_data"
    },
    {
     "name": "stdout",
     "output_type": "stream",
     "text": [
      "Classification Report:\n",
      "----------------------\n",
      "               precision    recall  f1-score   support\n",
      "\n",
      "         0.0       0.86      0.73      0.79       332\n",
      "         1.0       0.74      0.84      0.79       312\n",
      "         2.0       0.96      0.99      0.98       356\n",
      "\n",
      "    accuracy                           0.86      1000\n",
      "   macro avg       0.86      0.85      0.85      1000\n",
      "weighted avg       0.86      0.86      0.86      1000\n",
      "\n"
     ]
    }
   ],
   "source": [
    "cm_svm = confusion_matrix(y_test_svm, y_pred_svm)\n",
    "clr_svm = classification_report(y_test_svm, y_pred_svm)\n",
    "\n",
    "plt.figure(figsize=(8, 8))\n",
    "sns.heatmap(cm_svm, annot=True, vmin=0, fmt='g', cbar=False, cmap='Reds')\n",
    "plt.xticks(np.arange(3) + 0.5,states)\n",
    "plt.yticks(np.arange(3) + 0.5,states)\n",
    "plt.xlabel(\"Predicted\")\n",
    "plt.ylabel(\"Actual\")\n",
    "plt.title(\"Confusion Matrix\")\n",
    "plt.show()\n",
    "\n",
    "print(\"Classification Report:\\n----------------------\\n\", clr_svm)"
   ]
  },
  {
   "cell_type": "markdown",
   "source": [
    "## 3rd Model: Random Forest Classifier"
   ],
   "metadata": {
    "collapsed": false,
    "pycharm": {
     "name": "#%% md\n"
    }
   }
  },
  {
   "cell_type": "code",
   "execution_count": 188,
   "metadata": {
    "pycharm": {
     "name": "#%%\n"
    }
   },
   "outputs": [
    {
     "data": {
      "text/plain": "RandomForestClassifier(criterion='entropy', n_estimators=10, random_state=42)"
     },
     "execution_count": 188,
     "metadata": {},
     "output_type": "execute_result"
    }
   ],
   "source": [
    "# Fitting Random Forest Classification to the Training set\n",
    "from sklearn.ensemble import RandomForestClassifier\n",
    "\n",
    "rfc = RandomForestClassifier(n_estimators = 10, criterion = 'entropy', random_state = 42)\n",
    "rfc.fit(X_train, y_train)"
   ]
  },
  {
   "cell_type": "code",
   "execution_count": 189,
   "outputs": [],
   "source": [
    "y_pred_rfc = rfc.predict(X_test)"
   ],
   "metadata": {
    "collapsed": false,
    "pycharm": {
     "name": "#%%\n"
    }
   }
  },
  {
   "cell_type": "markdown",
   "source": [
    "### RFC: Results"
   ],
   "metadata": {
    "collapsed": false,
    "pycharm": {
     "name": "#%% md\n"
    }
   }
  },
  {
   "cell_type": "code",
   "execution_count": 190,
   "outputs": [
    {
     "data": {
      "text/plain": "89.69051843090872"
     },
     "execution_count": 190,
     "metadata": {},
     "output_type": "execute_result"
    }
   ],
   "source": [
    "from sklearn.metrics import accuracy_score\n",
    "accuracy_score(y_test, y_pred_rfc)*100"
   ],
   "metadata": {
    "collapsed": false,
    "pycharm": {
     "name": "#%%\n"
    }
   }
  },
  {
   "cell_type": "code",
   "execution_count": 191,
   "metadata": {
    "pycharm": {
     "name": "#%%\n"
    }
   },
   "outputs": [
    {
     "data": {
      "text/plain": "<Figure size 576x576 with 1 Axes>",
      "image/png": "[encoded data removed]"
     },
     "metadata": {
      "needs_background": "light"
     },
     "output_type": "display_data"
    },
    {
     "name": "stdout",
     "output_type": "stream",
     "text": [
      "Classification Report:\n",
      "----------------------\n",
      "               precision    recall  f1-score   support\n",
      "\n",
      "         0.0       0.85      0.88      0.86      1692\n",
      "         1.0       0.86      0.82      0.84      1668\n",
      "         2.0       0.98      0.99      0.98      1713\n",
      "\n",
      "    accuracy                           0.90      5073\n",
      "   macro avg       0.90      0.90      0.90      5073\n",
      "weighted avg       0.90      0.90      0.90      5073\n",
      "\n"
     ]
    }
   ],
   "source": [
    "cm_rfc = confusion_matrix(y_test, y_pred_rfc)\n",
    "clr_rfc = classification_report(y_test, y_pred_rfc)\n",
    "\n",
    "plt.figure(figsize=(8, 8))\n",
    "sns.heatmap(cm_rfc, annot=True, vmin=0, fmt='g', cbar=False, cmap='BuPu')\n",
    "plt.xticks(np.arange(3) + 0.5,states)\n",
    "plt.yticks(np.arange(3) + 0.5,states)\n",
    "plt.xlabel(\"Predicted\")\n",
    "plt.ylabel(\"Actual\")\n",
    "plt.title(\"Confusion Matrix\")\n",
    "plt.show()\n",
    "\n",
    "print(\"Classification Report:\\n----------------------\\n\", clr_rfc)"
   ]
  },
  {
   "cell_type": "markdown",
   "source": [
    "## 4th Model: 1D Convolutional Neural Network"
   ],
   "metadata": {
    "collapsed": false,
    "pycharm": {
     "name": "#%% md\n"
    }
   }
  },
  {
   "cell_type": "code",
   "execution_count": 192,
   "outputs": [
    {
     "data": {
      "text/plain": "(20291, 288)"
     },
     "execution_count": 192,
     "metadata": {},
     "output_type": "execute_result"
    }
   ],
   "source": [
    "X_train.shape"
   ],
   "metadata": {
    "collapsed": false,
    "pycharm": {
     "name": "#%%\n"
    }
   }
  },
  {
   "cell_type": "code",
   "execution_count": 193,
   "outputs": [
    {
     "data": {
      "text/plain": "(20291, 288, 1)"
     },
     "execution_count": 193,
     "metadata": {},
     "output_type": "execute_result"
    }
   ],
   "source": [
    "X_train_CNN = np.array(X_train).reshape(X_train.shape[0], X_train.shape[1], 1)\n",
    "X_test_CNN = np.array(X_test).reshape(X_test.shape[0], X_test.shape[1], 1)\n",
    "X_train_CNN.shape"
   ],
   "metadata": {
    "collapsed": false,
    "pycharm": {
     "name": "#%%\n"
    }
   }
  },
  {
   "cell_type": "code",
   "execution_count": 194,
   "outputs": [
    {
     "name": "stdout",
     "output_type": "stream",
     "text": [
      "Model: \"sequential_14\"\n",
      "_________________________________________________________________\n",
      " Layer (type)                Output Shape              Param #   \n",
      "=================================================================\n",
      " conv1d_24 (Conv1D)          (None, 287, 64)           192       \n",
      "                                                                 \n",
      " conv1d_25 (Conv1D)          (None, 286, 64)           8256      \n",
      "                                                                 \n",
      " dropout_10 (Dropout)        (None, 286, 64)           0         \n",
      "                                                                 \n",
      " max_pooling1d_10 (MaxPoolin  (None, 143, 64)          0         \n",
      " g1D)                                                            \n",
      "                                                                 \n",
      " flatten_14 (Flatten)        (None, 9152)              0         \n",
      "                                                                 \n",
      " dense_12 (Dense)            (None, 3)                 27459     \n",
      "                                                                 \n",
      "=================================================================\n",
      "Total params: 35,907\n",
      "Trainable params: 35,907\n",
      "Non-trainable params: 0\n",
      "_________________________________________________________________\n"
     ]
    }
   ],
   "source": [
    "import keras\n",
    "from keras.layers import Conv1D, Dropout, MaxPooling1D, Flatten, Dense\n",
    "\n",
    "input_shape = (X_train_CNN.shape[1],X_train_CNN.shape[2])\n",
    "\n",
    "model = keras.models.Sequential()\n",
    "model.add(Conv1D(filters=64, kernel_size=2, activation='relu', input_shape = input_shape))\n",
    "model.add(Conv1D(filters=64, kernel_size=2, activation='relu'))\n",
    "model.add(Dropout(0.5))\n",
    "model.add(MaxPooling1D(pool_size=2))\n",
    "model.add(Flatten())\n",
    "model.add(Dense(3, activation='softmax'))\n",
    "\n",
    "model.summary()"
   ],
   "metadata": {
    "collapsed": false,
    "pycharm": {
     "name": "#%%\n"
    }
   }
  },
  {
   "cell_type": "code",
   "execution_count": 195,
   "outputs": [
    {
     "name": "stdout",
     "output_type": "stream",
     "text": [
      "Epoch 1/50\n",
      "127/127 [==============================] - 2s 11ms/step - loss: 0.5578 - accuracy: 0.7719 - val_loss: 0.3483 - val_accuracy: 0.8421\n",
      "Epoch 2/50\n",
      "127/127 [==============================] - 1s 8ms/step - loss: 0.3285 - accuracy: 0.8547 - val_loss: 0.3117 - val_accuracy: 0.8748\n",
      "Epoch 3/50\n",
      "127/127 [==============================] - 1s 8ms/step - loss: 0.3087 - accuracy: 0.8640 - val_loss: 0.2932 - val_accuracy: 0.8820\n",
      "Epoch 4/50\n",
      "127/127 [==============================] - 1s 8ms/step - loss: 0.2911 - accuracy: 0.8781 - val_loss: 0.2855 - val_accuracy: 0.8918\n",
      "Epoch 5/50\n",
      "127/127 [==============================] - 1s 8ms/step - loss: 0.2816 - accuracy: 0.8832 - val_loss: 0.2748 - val_accuracy: 0.8933\n",
      "Epoch 6/50\n",
      "127/127 [==============================] - 1s 8ms/step - loss: 0.2711 - accuracy: 0.8880 - val_loss: 0.2706 - val_accuracy: 0.8965\n",
      "Epoch 7/50\n",
      "127/127 [==============================] - 1s 7ms/step - loss: 0.2632 - accuracy: 0.8958 - val_loss: 0.2622 - val_accuracy: 0.8965\n",
      "Epoch 8/50\n",
      "127/127 [==============================] - 1s 8ms/step - loss: 0.2567 - accuracy: 0.8965 - val_loss: 0.2543 - val_accuracy: 0.9049\n",
      "Epoch 9/50\n",
      "127/127 [==============================] - 1s 8ms/step - loss: 0.2503 - accuracy: 0.8985 - val_loss: 0.2486 - val_accuracy: 0.9039\n",
      "Epoch 10/50\n",
      "127/127 [==============================] - 1s 8ms/step - loss: 0.2461 - accuracy: 0.9004 - val_loss: 0.2474 - val_accuracy: 0.9118\n",
      "Epoch 11/50\n",
      "127/127 [==============================] - 1s 7ms/step - loss: 0.2442 - accuracy: 0.9033 - val_loss: 0.2423 - val_accuracy: 0.9098\n",
      "Epoch 12/50\n",
      "127/127 [==============================] - 1s 8ms/step - loss: 0.2376 - accuracy: 0.9046 - val_loss: 0.2454 - val_accuracy: 0.9113\n",
      "Epoch 13/50\n",
      "127/127 [==============================] - 1s 8ms/step - loss: 0.2386 - accuracy: 0.9041 - val_loss: 0.2347 - val_accuracy: 0.9167\n",
      "Epoch 14/50\n",
      "127/127 [==============================] - 1s 8ms/step - loss: 0.2314 - accuracy: 0.9066 - val_loss: 0.2314 - val_accuracy: 0.9128\n",
      "Epoch 15/50\n",
      "127/127 [==============================] - 1s 8ms/step - loss: 0.2333 - accuracy: 0.9066 - val_loss: 0.2271 - val_accuracy: 0.9116\n",
      "Epoch 16/50\n",
      "127/127 [==============================] - 1s 8ms/step - loss: 0.2285 - accuracy: 0.9057 - val_loss: 0.2260 - val_accuracy: 0.9160\n"
     ]
    }
   ],
   "source": [
    "model.compile(optimizer='adam', loss='sparse_categorical_crossentropy', metrics=['accuracy'])\n",
    "\n",
    "history = model.fit(X_train,y_train,validation_split=0.2,batch_size=128,epochs=50,\n",
    "    callbacks=[\n",
    "        tf.keras.callbacks.EarlyStopping(\n",
    "            monitor='val_accuracy',\n",
    "            patience=3,\n",
    "            restore_best_weights=True\n",
    "        )\n",
    "    ],\n",
    "    verbose = 1\n",
    ")"
   ],
   "metadata": {
    "collapsed": false,
    "pycharm": {
     "name": "#%%\n"
    }
   }
  },
  {
   "cell_type": "code",
   "execution_count": 196,
   "outputs": [],
   "source": [
    "y_pred_CNN = model.predict(X_test)"
   ],
   "metadata": {
    "collapsed": false,
    "pycharm": {
     "name": "#%%\n"
    }
   }
  },
  {
   "cell_type": "markdown",
   "source": [
    "### CNN: Results"
   ],
   "metadata": {
    "collapsed": false,
    "pycharm": {
     "name": "#%% md\n"
    }
   }
  },
  {
   "cell_type": "code",
   "execution_count": 197,
   "outputs": [
    {
     "name": "stdout",
     "output_type": "stream",
     "text": [
      "Test Accuracy: 91.504%\n"
     ]
    }
   ],
   "source": [
    "model_acc_cnn = model.evaluate(X_test, y_test, verbose=0)[1]\n",
    "print(\"Test Accuracy: {:.3f}%\".format(model_acc_cnn * 100))"
   ],
   "metadata": {
    "collapsed": false,
    "pycharm": {
     "name": "#%%\n"
    }
   }
  },
  {
   "cell_type": "code",
   "execution_count": 198,
   "outputs": [
    {
     "data": {
      "text/plain": "0.9150404100137985"
     },
     "execution_count": 198,
     "metadata": {},
     "output_type": "execute_result"
    }
   ],
   "source": [
    "y_pred_CNN = np.array(list(map(lambda x: np.argmax(x), y_pred_CNN)))\n",
    "accuracy_score(y_test, y_pred_CNN)"
   ],
   "metadata": {
    "collapsed": false,
    "pycharm": {
     "name": "#%%\n"
    }
   }
  },
  {
   "cell_type": "code",
   "execution_count": 199,
   "outputs": [
    {
     "data": {
      "text/plain": "<Figure size 576x576 with 1 Axes>",
      "image/png": "[encoded data removed]"
     },
     "metadata": {
      "needs_background": "light"
     },
     "output_type": "display_data"
    },
    {
     "name": "stdout",
     "output_type": "stream",
     "text": [
      "Classification Report:\n",
      "----------------------\n",
      "               precision    recall  f1-score   support\n",
      "\n",
      "         0.0       0.94      0.84      0.89      1692\n",
      "         1.0       0.84      0.91      0.88      1668\n",
      "         2.0       0.97      0.99      0.98      1713\n",
      "\n",
      "    accuracy                           0.92      5073\n",
      "   macro avg       0.92      0.91      0.91      5073\n",
      "weighted avg       0.92      0.92      0.91      5073\n",
      "\n"
     ]
    }
   ],
   "source": [
    "cm_cnn = confusion_matrix(y_test, y_pred_CNN)\n",
    "clr_cnn = classification_report(y_test, y_pred_CNN)\n",
    "\n",
    "plt.figure(figsize=(8, 8))\n",
    "sns.heatmap(cm_cnn, annot=True, vmin=0, fmt='g', cbar=False, cmap='Greens')\n",
    "plt.xticks(np.arange(3) + 0.5,states)\n",
    "plt.yticks(np.arange(3) + 0.5,states)\n",
    "plt.xlabel(\"Predicted\")\n",
    "plt.ylabel(\"Actual\")\n",
    "plt.title(\"Confusion Matrix\")\n",
    "plt.show()\n",
    "\n",
    "print(\"Classification Report:\\n----------------------\\n\", clr_cnn)"
   ],
   "metadata": {
    "collapsed": false,
    "pycharm": {
     "name": "#%%\n"
    }
   }
  },
  {
   "cell_type": "code",
   "execution_count": null,
   "outputs": [],
   "source": [
    "#End"
   ],
   "metadata": {
    "collapsed": false,
    "pycharm": {
     "name": "#%%\n"
    }
   }
  }
 ],
 "metadata": {
  "interpreter": {
   "hash": "32a797c5569203baa308ccdf935e7b699fe5a2ef5e18bd6e0a3aea8e28291ff8"
  },
  "kernelspec": {
   "display_name": "Python 3.10.1 64-bit",
   "language": "python",
   "name": "python3"
  },
  "language_info": {
   "codemirror_mode": {
    "name": "ipython",
    "version": 3
   },
   "file_extension": ".py",
   "mimetype": "text/x-python",
   "name": "python",
   "nbconvert_exporter": "python",
   "pygments_lexer": "ipython3",
   "version": "3.10.1"
  },
  "papermill": {
   "duration": 70.697858,
   "end_time": "2020-12-15T00:36:39.076049",
   "environment_variables": {},
   "exception": null,
   "input_path": "__notebook__.ipynb",
   "output_path": "__notebook__.ipynb",
   "parameters": {},
   "start_time": "2020-12-15T00:35:28.378191",
   "version": "2.1.0"
  }
 },
 "nbformat": 4,
 "nbformat_minor": 4
}