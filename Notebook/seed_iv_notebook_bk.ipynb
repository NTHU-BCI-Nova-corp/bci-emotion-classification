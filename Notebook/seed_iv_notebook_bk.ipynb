{
 "cells": [
  {
   "cell_type": "markdown",
   "metadata": {
    "pycharm": {
     "name": "#%% md\n"
    }
   },
   "source": [
    "### Setup libraries"
   ]
  },
  {
   "cell_type": "code",
   "execution_count": 3,
   "metadata": {
    "pycharm": {
     "name": "#%%\n"
    }
   },
   "outputs": [],
   "source": [
    "\n",
    "import matplotlib\n",
    "from mpl_toolkits.mplot3d import Axes3D\n",
    "from sklearn.preprocessing import StandardScaler\n",
    "import matplotlib.pyplot as plt # plotting\n",
    "matplotlib.use('Qt5Agg')\n",
    "plt.ion()\n",
    "\n",
    "import numpy as np # linear algebra\n",
    "import pandas as pd # data processing, CSV file I/O (e.g. pd.read_csv)\n",
    "from scipy.io import loadmat\n",
    "import glob\n",
    "from scipy import signal\n",
    "from scipy.fftpack import fft, ifft\n",
    "from scipy.signal import butter, lfilter\n",
    "import mne"
   ]
  },
  {
   "cell_type": "markdown",
   "metadata": {
    "pycharm": {
     "name": "#%% md\n"
    }
   },
   "source": [
    "### Setup data information"
   ]
  },
  {
   "cell_type": "code",
   "execution_count": 4,
   "metadata": {
    "pycharm": {
     "name": "#%%\n"
    }
   },
   "outputs": [],
   "source": [
    "emotion_label = ['neutral', 'sad', 'fear', 'happy']\n",
    "session1_label = [1,2,3,0,2,0,0,1,0,1,2,1,1,1,2,3,2,2,3,3,0,3,0,3]\n",
    "session2_label = [2,1,3,0,0,2,0,2,3,3,2,3,2,0,1,1,2,1,0,3,0,1,3,1]\n",
    "session3_label = [1,2,2,1,3,3,3,1,1,2,1,0,2,3,3,0,2,3,0,0,2,0,1,0]\n",
    "# location = \"../SEED_IV/eeg_raw_data\"\n"
   ]
  },
  {
   "cell_type": "markdown",
   "metadata": {
    "pycharm": {
     "name": "#%% md\n"
    }
   },
   "source": [
    "### Import files"
   ]
  },
  {
   "cell_type": "code",
   "execution_count": 5,
   "metadata": {
    "pycharm": {
     "name": "#%%\n"
    }
   },
   "outputs": [
    {
     "data": {
      "text/plain": "[]"
     },
     "execution_count": 5,
     "metadata": {},
     "output_type": "execute_result"
    }
   ],
   "source": [
    "files = glob.glob(\"../SEED_IV/eeg_raw_data/1/1_20160518.mat\")\n",
    "# files = glob.glob(location+\"/*/*.mat\")\n",
    "files"
   ]
  },
  {
   "cell_type": "code",
   "execution_count": 6,
   "metadata": {
    "pycharm": {
     "name": "#%%\n"
    }
   },
   "outputs": [
    {
     "ename": "IndexError",
     "evalue": "list index out of range",
     "output_type": "error",
     "traceback": [
      "\u001B[0;31m---------------------------------------------------------------------------\u001B[0m",
      "\u001B[0;31mIndexError\u001B[0m                                Traceback (most recent call last)",
      "Input \u001B[0;32mIn [6]\u001B[0m, in \u001B[0;36m<cell line: 1>\u001B[0;34m()\u001B[0m\n\u001B[0;32m----> 1\u001B[0m subjects \u001B[38;5;241m=\u001B[39m [loadmat(\u001B[43mfiles\u001B[49m\u001B[43m[\u001B[49m\u001B[38;5;241;43m0\u001B[39;49m\u001B[43m]\u001B[49m)]\n",
      "\u001B[0;31mIndexError\u001B[0m: list index out of range"
     ]
    }
   ],
   "source": [
    "subjects = [loadmat(files[0])]\n",
    "# for file in files:\n"
   ]
  },
  {
   "cell_type": "markdown",
   "metadata": {
    "pycharm": {
     "name": "#%% md\n"
    }
   },
   "source": [
    "### Create MNE object"
   ]
  },
  {
   "cell_type": "code",
   "execution_count": null,
   "metadata": {
    "pycharm": {
     "name": "#%%\n"
    }
   },
   "outputs": [],
   "source": [
    "target_channels = [14, 22, 23, 31, 32, 40]\n",
    "channel_mapping = ['FT7','FT8','T7','T8','TP7','TP8']\n",
    "ch_types = ['eeg'] * 6\n",
    "sampling_freq = 1000\n",
    "\n",
    "info = mne.create_info(channel_mapping, ch_types=ch_types, sfreq=sampling_freq)\n",
    "info.set_montage('standard_1020')\n",
    "\n"
   ]
  },
  {
   "cell_type": "code",
   "execution_count": null,
   "metadata": {
    "pycharm": {
     "name": "#%%\n"
    }
   },
   "outputs": [],
   "source": [
    "data = np.array(subjects)\n",
    "trial_no = 0\n",
    "session1_label[trial_no]\n",
    "trial = data[trial_no]['cz_eeg1']\n",
    "channel = trial[target_channels[0]]\n",
    "channel2 = trial[target_channels[1]]\n",
    "channel3 = trial[target_channels[2]]\n",
    "channel4 = trial[target_channels[3]]\n",
    "channel5 = trial[target_channels[4]]\n",
    "channel6 = trial[target_channels[5]]\n",
    "\n",
    "raw_data=np.array([channel,channel2,channel3,channel4,channel5,channel6])\n",
    "raw_data"
   ]
  },
  {
   "cell_type": "code",
   "execution_count": null,
   "metadata": {
    "pycharm": {
     "name": "#%%\n"
    }
   },
   "outputs": [],
   "source": [
    "info = mne.create_info(ch_names=channel_mapping,\n",
    "                       ch_types=ch_types,\n",
    "                       sfreq=sampling_freq)\n",
    "simulated_raw = mne.io.RawArray(raw_data, info)\n",
    "picks = mne.pick_types(simulated_raw.info, meg=False, eeg=True, eog=False,\n",
    "                       stim=False)"
   ]
  },
  {
   "cell_type": "code",
   "execution_count": null,
   "outputs": [],
   "source": [
    "FFTed_signal = simulated_raw.filter(1, 70., fir_design='firwin')\n",
    "FFTed_signal.plot_psd(area_mode='range', tmax=10.0, picks=picks, average=False);"
   ],
   "metadata": {
    "collapsed": false,
    "pycharm": {
     "name": "#%%\n"
    }
   }
  },
  {
   "cell_type": "code",
   "execution_count": null,
   "outputs": [],
   "source": [
    "resampled_signal = FFTed_signal.resample(150, npad=\"auto\")  # set sampling frequency to 100Hz\n",
    "resampled_signal.plot_psd(area_mode='range', tmax=10.0, picks=picks);"
   ],
   "metadata": {
    "collapsed": false,
    "pycharm": {
     "name": "#%%\n"
    }
   }
  },
  {
   "cell_type": "code",
   "execution_count": null,
   "outputs": [],
   "source": [
    "data = np.array(subjects)\n",
    "trial = data[0]['cz_eeg1']\n",
    "channel = trial[target_channels[0]]\n",
    "plt.plot(channel)"
   ],
   "metadata": {
    "collapsed": false,
    "pycharm": {
     "name": "#%%\n"
    }
   }
  },
  {
   "cell_type": "code",
   "execution_count": null,
   "outputs": [],
   "source": [
    "time = np.linspace(0,channel.size/1000,channal.size)\n",
    "plt.plot(time, channel)"
   ],
   "metadata": {
    "collapsed": false,
    "pycharm": {
     "name": "#%%\n"
    }
   }
  },
  {
   "cell_type": "markdown",
   "source": [
    "### Apply bandpass filter"
   ],
   "metadata": {
    "collapsed": false,
    "pycharm": {
     "name": "#%% md\n"
    }
   }
  },
  {
   "cell_type": "code",
   "execution_count": null,
   "outputs": [],
   "source": [
    "taps = signal.firwin(400, [0.1, 0.75], pass_zero=False)\n",
    "filtered_chanel = signal.convolve(channel, taps, mode='same')\n",
    "# t = np.arange(0.0, channal.size/sampling_freq, 1/sampling_freq)\n",
    "t = np.linspace(0,channel.size/1000,channel.size)\n",
    "plt.figure(figsize=(18,4))\n",
    "plt.plot(t, channel, alpha=0.4)\n",
    "plt.plot(t, filtered_chanel)\n",
    "plt.show()"
   ],
   "metadata": {
    "collapsed": false,
    "pycharm": {
     "name": "#%%\n"
    }
   }
  },
  {
   "cell_type": "markdown",
   "source": [
    "### Apply FFT"
   ],
   "metadata": {
    "collapsed": false,
    "pycharm": {
     "name": "#%% md\n"
    }
   }
  },
  {
   "cell_type": "code",
   "execution_count": null,
   "outputs": [],
   "source": [
    "FFTed_channel = np.fft.fft(filtered_chanel)\n",
    "plt.plot(FFTed_channel)"
   ],
   "metadata": {
    "collapsed": false,
    "pycharm": {
     "name": "#%%\n"
    }
   }
  },
  {
   "cell_type": "markdown",
   "source": [
    "### Take the real part of it with the abs command."
   ],
   "metadata": {
    "collapsed": false,
    "pycharm": {
     "name": "#%% md\n"
    }
   }
  },
  {
   "cell_type": "code",
   "execution_count": null,
   "outputs": [],
   "source": [
    "N = round(len(FFTed_channel)/2+1)\n",
    "FFTed_channel[N-4:N+3]\n",
    "plt.plot(np.abs(FFTed_channel))"
   ],
   "metadata": {
    "collapsed": false,
    "pycharm": {
     "name": "#%%\n"
    }
   }
  },
  {
   "cell_type": "markdown",
   "source": [
    "### Amplitude Spectrum"
   ],
   "metadata": {
    "collapsed": false,
    "pycharm": {
     "name": "#%% md\n"
    }
   }
  },
  {
   "cell_type": "code",
   "execution_count": null,
   "outputs": [],
   "source": [
    "plt.plot(np.abs(FFTed_channel[:N]))"
   ],
   "metadata": {
    "collapsed": false,
    "pycharm": {
     "name": "#%%\n"
    }
   }
  },
  {
   "cell_type": "markdown",
   "source": [
    "### Real Physical Values for the Amplitude and Frequency Axes of the FFT"
   ],
   "metadata": {
    "collapsed": false,
    "pycharm": {
     "name": "#%% md\n"
    }
   }
  },
  {
   "cell_type": "markdown",
   "source": [
    "x-Axis: The Frequency Axis of the FFT"
   ],
   "metadata": {
    "collapsed": false,
    "pycharm": {
     "name": "#%% md\n"
    }
   }
  },
  {
   "cell_type": "code",
   "execution_count": null,
   "outputs": [],
   "source": [
    "dt = t[1] - t[0]\n",
    "fa = 1.0/dt # scan frequency\n",
    "print('dt=%.5fs (Sample Time)' % dt)\n",
    "print('fa=%.2fHz (Frequency)' % fa)"
   ],
   "metadata": {
    "collapsed": false,
    "pycharm": {
     "name": "#%%\n"
    }
   }
  },
  {
   "cell_type": "markdown",
   "source": [
    "This frequency is half of the maximum sampling frequency (fa) and is called the Nyquist-Frequency"
   ],
   "metadata": {
    "collapsed": false,
    "pycharm": {
     "name": "#%% md\n"
    }
   }
  },
  {
   "cell_type": "code",
   "execution_count": null,
   "outputs": [],
   "source": [
    "X = np.linspace(0, fa/2, N, endpoint=True)\n",
    "X[:]"
   ],
   "metadata": {
    "collapsed": false,
    "pycharm": {
     "name": "#%%\n"
    }
   }
  },
  {
   "cell_type": "code",
   "execution_count": null,
   "outputs": [],
   "source": [
    "plt.plot(X, np.abs(FFTed_channel[:N]))\n",
    "plt.xlabel('Frequency ($Hz$)')"
   ],
   "metadata": {
    "collapsed": false,
    "pycharm": {
     "name": "#%%\n"
    }
   }
  },
  {
   "cell_type": "markdown",
   "source": [
    "y-Axis: The Amplitude of the FFT Signal"
   ],
   "metadata": {
    "collapsed": false,
    "pycharm": {
     "name": "#%% md\n"
    }
   }
  },
  {
   "cell_type": "code",
   "execution_count": null,
   "outputs": [],
   "source": [
    "plt.plot(X, 2.0*np.abs(FFTed_channel[:N])/N)\n",
    "plt.xlabel('Frequency ($Hz$)')\n",
    "plt.ylabel('Amplitude ($Unit$)')"
   ],
   "metadata": {
    "collapsed": false,
    "pycharm": {
     "name": "#%%\n"
    }
   }
  },
  {
   "cell_type": "markdown",
   "source": [
    "### The wrong Amplitude Spectrum because of Leakage Effect"
   ],
   "metadata": {
    "collapsed": false,
    "pycharm": {
     "name": "#%% md\n"
    }
   }
  },
  {
   "cell_type": "markdown",
   "source": [
    "The original signal."
   ],
   "metadata": {
    "collapsed": false,
    "pycharm": {
     "name": "#%% md\n"
    }
   }
  },
  {
   "cell_type": "code",
   "execution_count": null,
   "outputs": [],
   "source": [
    "plt.plot(t,channel)\n",
    "plt.xlabel('Time ($s$)')\n",
    "plt.ylabel('Amplitude ($Unit$)')"
   ],
   "metadata": {
    "collapsed": false,
    "pycharm": {
     "name": "#%%\n"
    }
   }
  },
  {
   "cell_type": "code",
   "execution_count": null,
   "outputs": [],
   "source": [
    "plt.plot(t, channel, label='Signal 1')\n",
    "plt.plot(t+t[-1], channel, label='Signal 1 again')\n",
    "plt.xlim(t[-1]-1, t[-1]+1)\n",
    "plt.xlabel('Time ($s$)')\n",
    "plt.ylabel('Amplitude ($Unit$)')\n",
    "plt.legend()"
   ],
   "metadata": {
    "collapsed": false,
    "pycharm": {
     "name": "#%%\n"
    }
   }
  },
  {
   "cell_type": "code",
   "execution_count": null,
   "outputs": [],
   "source": [
    "hamm = np.hamming(len(channel))\n",
    "plt.plot(hamm)"
   ],
   "metadata": {
    "collapsed": false,
    "pycharm": {
     "name": "#%%\n"
    }
   }
  },
  {
   "cell_type": "code",
   "execution_count": null,
   "outputs": [],
   "source": [
    "\n",
    "Yhamm = np.fft.fft(hamm*channel)\n",
    "\n",
    "plt.figure(figsize=(7,3))\n",
    "plt.subplot(121)\n",
    "plt.plot(t,channel)\n",
    "plt.title('Time Domain Signal')\n",
    "plt.ylim(np.min(channel)*3, np.max(channel)*3)\n",
    "plt.xlabel('Time ($s$)')\n",
    "plt.ylabel('Amplitude ($Unit$)')\n",
    "\n",
    "plt.subplot(122)\n",
    "plt.plot(X, 2.0*np.abs(Yhamm[:N])/N)\n",
    "plt.title('Frequency Domain Signal')\n",
    "plt.xlabel('Frequency ($Hz$)')\n",
    "plt.ylabel('Amplitude ($Unit$)')\n",
    "\n",
    "plt.annotate(\"FFT\",\n",
    "            xy=(0.0, 0.1), xycoords='axes fraction',\n",
    "            xytext=(-0.8, 0.2), textcoords='axes fraction',\n",
    "            size=30, va=\"center\", ha=\"center\",\n",
    "            arrowprops=dict(arrowstyle=\"simple\",\n",
    "                            connectionstyle=\"arc3,rad=0.2\"))\n",
    "plt.tight_layout()\n",
    "\n",
    "plt.savefig('FFT.png',bbox_inches='tight', dpi=150, transparent=True)"
   ],
   "metadata": {
    "collapsed": false,
    "pycharm": {
     "name": "#%%\n"
    }
   }
  },
  {
   "cell_type": "code",
   "execution_count": null,
   "outputs": [],
   "source": [
    "hann = np.hanning(len(channel))\n",
    "plt.plot(hann)"
   ],
   "metadata": {
    "collapsed": false,
    "pycharm": {
     "name": "#%%\n"
    }
   }
  },
  {
   "cell_type": "code",
   "execution_count": null,
   "outputs": [],
   "source": [
    "Y = np.fft.fft(hann*channel)\n",
    "plt.plot(Y)"
   ],
   "metadata": {
    "collapsed": false,
    "pycharm": {
     "name": "#%%\n"
    }
   }
  },
  {
   "cell_type": "code",
   "execution_count": null,
   "outputs": [],
   "source": [
    "N = round(len(Y)/2+1)\n",
    "fa = 1.0/4 # every 15 minutes\n",
    "print('fa=%.4fHz (Frequency)' % fa)"
   ],
   "metadata": {
    "collapsed": false,
    "pycharm": {
     "name": "#%%\n"
    }
   }
  },
  {
   "cell_type": "code",
   "execution_count": null,
   "outputs": [],
   "source": [
    "X = np.linspace(0, fa/2, N, endpoint=True)"
   ],
   "metadata": {
    "collapsed": false,
    "pycharm": {
     "name": "#%%\n"
    }
   }
  },
  {
   "cell_type": "code",
   "execution_count": null,
   "outputs": [],
   "source": [
    "FFTed_signal = 2.0*np.abs(Y[:N])/N\n",
    "plt.plot(X, FFTed_signal)\n",
    "plt.xlabel('Frequency ($Hz$)')\n",
    "plt.ylabel('vertical power grid load ($MW$)')"
   ],
   "metadata": {
    "collapsed": false,
    "pycharm": {
     "name": "#%%\n"
    }
   }
  },
  {
   "cell_type": "code",
   "execution_count": null,
   "outputs": [],
   "source": [
    "FFTed_signal"
   ],
   "metadata": {
    "collapsed": false,
    "pycharm": {
     "name": "#%%\n"
    }
   }
  },
  {
   "cell_type": "code",
   "execution_count": null,
   "outputs": [],
   "source": [
    "times = np.linspace(0, 1, sampling_freq, endpoint=False)\n",
    "sine = np.sin(20 * np.pi * times)\n",
    "cosine = np.cos(10 * np.pi * times)\n",
    "data = np.array([sine, cosine])\n",
    "\n",
    "info = mne.create_info(ch_names=['10 Hz sine', '5 Hz cosine'],\n",
    "                       ch_types=['misc'] * 2,\n",
    "                       sfreq=sampling_freq)"
   ],
   "metadata": {
    "collapsed": false,
    "pycharm": {
     "name": "#%%\n"
    }
   }
  },
  {
   "cell_type": "code",
   "execution_count": null,
   "outputs": [],
   "source": [],
   "metadata": {
    "collapsed": false,
    "pycharm": {
     "name": "#%%\n"
    }
   }
  }
 ],
 "metadata": {
  "interpreter": {
   "hash": "96e5d53265b94df340949bd6ef5afdc360b59f503fc29fdfbde1773c536f468a"
  },
  "kernelspec": {
   "display_name": "Python 3.9.13 64-bit ('tensorflow': conda)",
   "language": "python",
   "name": "python3913jvsc74a57bd096e5d53265b94df340949bd6ef5afdc360b59f503fc29fdfbde1773c536f468a"
  },
  "language_info": {
   "codemirror_mode": {
    "name": "ipython",
    "version": 3
   },
   "file_extension": ".py",
   "mimetype": "text/x-python",
   "name": "python",
   "nbconvert_exporter": "python",
   "pygments_lexer": "ipython3",
   "version": "3.9.13"
  }
 },
 "nbformat": 4,
 "nbformat_minor": 2
}