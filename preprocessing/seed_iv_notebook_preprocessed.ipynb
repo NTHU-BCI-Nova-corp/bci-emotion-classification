{
 "cells": [
  {
   "cell_type": "markdown",
   "metadata": {
    "pycharm": {
     "name": "#%% md\n"
    }
   },
   "source": []
  },
  {
   "cell_type": "code",
   "execution_count": 56,
   "metadata": {
    "pycharm": {
     "name": "#%%\n"
    }
   },
   "outputs": [],
   "source": [
    "import matplotlib.pyplot as plt # plotting\n",
    "import csv\n",
    "\n",
    "\n",
    "import numpy as np # linear algebra\n",
    "from scipy.io import loadmat\n",
    "import glob\n",
    "import mne\n",
    "import pandas as pd"
   ]
  },
  {
   "cell_type": "markdown",
   "metadata": {
    "pycharm": {
     "name": "#%% md\n"
    }
   },
   "source": [
    "### Setup data information"
   ]
  },
  {
   "cell_type": "code",
   "execution_count": 21,
   "metadata": {
    "pycharm": {
     "name": "#%%\n"
    }
   },
   "outputs": [],
   "source": [
    "emotion_label = {'0':'neutral', '1':'sad', '2':'fear', '3':'happy'}\n",
    "session1_label = [1,2,3,0,2,0,0,1,0,1,2,1,1,1,2,3,2,2,3,3,0,3,0,3]\n",
    "session2_label = [2,1,3,0,0,2,0,2,3,3,2,3,2,0,1,1,2,1,0,3,0,1,3,1]\n",
    "session3_label = [1,2,2,1,3,3,3,1,1,2,1,0,2,3,3,0,2,3,0,0,2,0,1,0]\n",
    "target_channels = [15, 23, 24, 32, 33, 41]\n",
    "channel_mapping = ['FT7','FT8','T7','T8','TP7','TP8']\n",
    "\n",
    "# location = \"../SEED_IV/eeg_raw_data\"\n"
   ]
  },
  {
   "cell_type": "markdown",
   "metadata": {
    "pycharm": {
     "name": "#%% md\n"
    }
   },
   "source": [
    "### Import files"
   ]
  },
  {
   "cell_type": "code",
   "execution_count": 22,
   "metadata": {
    "pycharm": {
     "name": "#%%\n"
    }
   },
   "outputs": [
    {
     "data": {
      "text/plain": "(['../SEED_IV/eeg_raw_data/1/1_20160518.mat'],\n ['../SEED_IV/eeg_raw_data/1/2_20150915.mat'])"
     },
     "execution_count": 22,
     "metadata": {},
     "output_type": "execute_result"
    }
   ],
   "source": [
    "file1 = glob.glob(\"../SEED_IV/eeg_raw_data/1/1_20160518.mat\")\n",
    "file2 = glob.glob(\"../SEED_IV/eeg_raw_data/1/2_20150915.mat\")\n",
    "\n",
    "# files = glob.glob(location+\"/*/*.mat\")\n",
    "file1, file2"
   ]
  },
  {
   "cell_type": "code",
   "execution_count": 23,
   "outputs": [],
   "source": [
    "subject1 = [loadmat(file1[0])]\n",
    "subject2 = [loadmat(file2[0])]"
   ],
   "metadata": {
    "collapsed": false,
    "pycharm": {
     "name": "#%%\n"
    }
   }
  },
  {
   "cell_type": "code",
   "execution_count": 95,
   "outputs": [
    {
     "name": "stdout",
     "output_type": "stream",
     "text": [
      "Creating RawArray with float64 data, n_channels=6, n_times=33601\n",
      "    Range : 0 ... 33600 =      0.000 ...    33.600 secs\n",
      "Ready.\n",
      "Filtering raw data in 1 contiguous segment\n",
      "Setting up band-pass filter from 1 - 70 Hz\n",
      "\n",
      "FIR filter parameters\n",
      "---------------------\n",
      "Designing a one-pass, zero-phase, non-causal bandpass filter:\n",
      "- Windowed time-domain design (firwin) method\n",
      "- Hamming window with 0.0194 passband ripple and 53 dB stopband attenuation\n",
      "- Lower passband edge: 1.00\n",
      "- Lower transition bandwidth: 1.00 Hz (-6 dB cutoff frequency: 0.50 Hz)\n",
      "- Upper passband edge: 70.00 Hz\n",
      "- Upper transition bandwidth: 17.50 Hz (-6 dB cutoff frequency: 78.75 Hz)\n",
      "- Filter length: 3301 samples (3.301 sec)\n",
      "\n",
      "subjecta-sad-1.csv\n",
      "Creating RawArray with float64 data, n_channels=6, n_times=19001\n",
      "    Range : 0 ... 19000 =      0.000 ...    19.000 secs\n",
      "Ready.\n",
      "Filtering raw data in 1 contiguous segment\n",
      "Setting up band-pass filter from 1 - 70 Hz\n",
      "\n",
      "FIR filter parameters\n",
      "---------------------\n",
      "Designing a one-pass, zero-phase, non-causal bandpass filter:\n",
      "- Windowed time-domain design (firwin) method\n",
      "- Hamming window with 0.0194 passband ripple and 53 dB stopband attenuation\n",
      "- Lower passband edge: 1.00\n",
      "- Lower transition bandwidth: 1.00 Hz (-6 dB cutoff frequency: 0.50 Hz)\n",
      "- Upper passband edge: 70.00 Hz\n",
      "- Upper transition bandwidth: 17.50 Hz (-6 dB cutoff frequency: 78.75 Hz)\n",
      "- Filter length: 3301 samples (3.301 sec)\n",
      "\n",
      "subjectb-fear-1.csv\n",
      "Creating RawArray with float64 data, n_channels=6, n_times=39801\n",
      "    Range : 0 ... 39800 =      0.000 ...    39.800 secs\n",
      "Ready.\n",
      "Filtering raw data in 1 contiguous segment\n",
      "Setting up band-pass filter from 1 - 70 Hz\n",
      "\n",
      "FIR filter parameters\n",
      "---------------------\n",
      "Designing a one-pass, zero-phase, non-causal bandpass filter:\n",
      "- Windowed time-domain design (firwin) method\n",
      "- Hamming window with 0.0194 passband ripple and 53 dB stopband attenuation\n",
      "- Lower passband edge: 1.00\n",
      "- Lower transition bandwidth: 1.00 Hz (-6 dB cutoff frequency: 0.50 Hz)\n",
      "- Upper passband edge: 70.00 Hz\n",
      "- Upper transition bandwidth: 17.50 Hz (-6 dB cutoff frequency: 78.75 Hz)\n",
      "- Filter length: 3301 samples (3.301 sec)\n",
      "\n",
      "subjectb-happy-1.csv\n",
      "Creating RawArray with float64 data, n_channels=6, n_times=26001\n",
      "    Range : 0 ... 26000 =      0.000 ...    26.000 secs\n",
      "Ready.\n",
      "Filtering raw data in 1 contiguous segment\n",
      "Setting up band-pass filter from 1 - 70 Hz\n",
      "\n",
      "FIR filter parameters\n",
      "---------------------\n",
      "Designing a one-pass, zero-phase, non-causal bandpass filter:\n",
      "- Windowed time-domain design (firwin) method\n",
      "- Hamming window with 0.0194 passband ripple and 53 dB stopband attenuation\n",
      "- Lower passband edge: 1.00\n",
      "- Lower transition bandwidth: 1.00 Hz (-6 dB cutoff frequency: 0.50 Hz)\n",
      "- Upper passband edge: 70.00 Hz\n",
      "- Upper transition bandwidth: 17.50 Hz (-6 dB cutoff frequency: 78.75 Hz)\n",
      "- Filter length: 3301 samples (3.301 sec)\n",
      "\n",
      "subjectb-neutral-1.csv\n",
      "Creating RawArray with float64 data, n_channels=6, n_times=17601\n",
      "    Range : 0 ... 17600 =      0.000 ...    17.600 secs\n",
      "Ready.\n",
      "Filtering raw data in 1 contiguous segment\n",
      "Setting up band-pass filter from 1 - 70 Hz\n",
      "\n",
      "FIR filter parameters\n",
      "---------------------\n",
      "Designing a one-pass, zero-phase, non-causal bandpass filter:\n",
      "- Windowed time-domain design (firwin) method\n",
      "- Hamming window with 0.0194 passband ripple and 53 dB stopband attenuation\n",
      "- Lower passband edge: 1.00\n",
      "- Lower transition bandwidth: 1.00 Hz (-6 dB cutoff frequency: 0.50 Hz)\n",
      "- Upper passband edge: 70.00 Hz\n",
      "- Upper transition bandwidth: 17.50 Hz (-6 dB cutoff frequency: 78.75 Hz)\n",
      "- Filter length: 3301 samples (3.301 sec)\n",
      "\n",
      "subjectb-fear-2.csv\n",
      "Creating RawArray with float64 data, n_channels=6, n_times=32401\n",
      "    Range : 0 ... 32400 =      0.000 ...    32.400 secs\n",
      "Ready.\n",
      "Filtering raw data in 1 contiguous segment\n",
      "Setting up band-pass filter from 1 - 70 Hz\n",
      "\n",
      "FIR filter parameters\n",
      "---------------------\n",
      "Designing a one-pass, zero-phase, non-causal bandpass filter:\n",
      "- Windowed time-domain design (firwin) method\n",
      "- Hamming window with 0.0194 passband ripple and 53 dB stopband attenuation\n",
      "- Lower passband edge: 1.00\n",
      "- Lower transition bandwidth: 1.00 Hz (-6 dB cutoff frequency: 0.50 Hz)\n",
      "- Upper passband edge: 70.00 Hz\n",
      "- Upper transition bandwidth: 17.50 Hz (-6 dB cutoff frequency: 78.75 Hz)\n",
      "- Filter length: 3301 samples (3.301 sec)\n",
      "\n",
      "subjectb-neutral-2.csv\n",
      "Creating RawArray with float64 data, n_channels=6, n_times=30601\n",
      "    Range : 0 ... 30600 =      0.000 ...    30.600 secs\n",
      "Ready.\n",
      "Filtering raw data in 1 contiguous segment\n",
      "Setting up band-pass filter from 1 - 70 Hz\n",
      "\n",
      "FIR filter parameters\n",
      "---------------------\n",
      "Designing a one-pass, zero-phase, non-causal bandpass filter:\n",
      "- Windowed time-domain design (firwin) method\n",
      "- Hamming window with 0.0194 passband ripple and 53 dB stopband attenuation\n",
      "- Lower passband edge: 1.00\n",
      "- Lower transition bandwidth: 1.00 Hz (-6 dB cutoff frequency: 0.50 Hz)\n",
      "- Upper passband edge: 70.00 Hz\n",
      "- Upper transition bandwidth: 17.50 Hz (-6 dB cutoff frequency: 78.75 Hz)\n",
      "- Filter length: 3301 samples (3.301 sec)\n",
      "\n",
      "subjectb-neutral-3.csv\n",
      "Creating RawArray with float64 data, n_channels=6, n_times=41801\n",
      "    Range : 0 ... 41800 =      0.000 ...    41.800 secs\n",
      "Ready.\n",
      "Filtering raw data in 1 contiguous segment\n",
      "Setting up band-pass filter from 1 - 70 Hz\n",
      "\n",
      "FIR filter parameters\n",
      "---------------------\n",
      "Designing a one-pass, zero-phase, non-causal bandpass filter:\n",
      "- Windowed time-domain design (firwin) method\n",
      "- Hamming window with 0.0194 passband ripple and 53 dB stopband attenuation\n",
      "- Lower passband edge: 1.00\n",
      "- Lower transition bandwidth: 1.00 Hz (-6 dB cutoff frequency: 0.50 Hz)\n",
      "- Upper passband edge: 70.00 Hz\n",
      "- Upper transition bandwidth: 17.50 Hz (-6 dB cutoff frequency: 78.75 Hz)\n",
      "- Filter length: 3301 samples (3.301 sec)\n",
      "\n",
      "subjectb-sad-2.csv\n",
      "Creating RawArray with float64 data, n_channels=6, n_times=29001\n",
      "    Range : 0 ... 29000 =      0.000 ...    29.000 secs\n",
      "Ready.\n",
      "Filtering raw data in 1 contiguous segment\n",
      "Setting up band-pass filter from 1 - 70 Hz\n",
      "\n",
      "FIR filter parameters\n",
      "---------------------\n",
      "Designing a one-pass, zero-phase, non-causal bandpass filter:\n",
      "- Windowed time-domain design (firwin) method\n",
      "- Hamming window with 0.0194 passband ripple and 53 dB stopband attenuation\n",
      "- Lower passband edge: 1.00\n",
      "- Lower transition bandwidth: 1.00 Hz (-6 dB cutoff frequency: 0.50 Hz)\n",
      "- Upper passband edge: 70.00 Hz\n",
      "- Upper transition bandwidth: 17.50 Hz (-6 dB cutoff frequency: 78.75 Hz)\n",
      "- Filter length: 3301 samples (3.301 sec)\n",
      "\n",
      "subjectb-neutral-4.csv\n",
      "Creating RawArray with float64 data, n_channels=6, n_times=33801\n",
      "    Range : 0 ... 33800 =      0.000 ...    33.800 secs\n",
      "Ready.\n",
      "Filtering raw data in 1 contiguous segment\n",
      "Setting up band-pass filter from 1 - 70 Hz\n",
      "\n",
      "FIR filter parameters\n",
      "---------------------\n",
      "Designing a one-pass, zero-phase, non-causal bandpass filter:\n",
      "- Windowed time-domain design (firwin) method\n",
      "- Hamming window with 0.0194 passband ripple and 53 dB stopband attenuation\n",
      "- Lower passband edge: 1.00\n",
      "- Lower transition bandwidth: 1.00 Hz (-6 dB cutoff frequency: 0.50 Hz)\n",
      "- Upper passband edge: 70.00 Hz\n",
      "- Upper transition bandwidth: 17.50 Hz (-6 dB cutoff frequency: 78.75 Hz)\n",
      "- Filter length: 3301 samples (3.301 sec)\n",
      "\n",
      "subjectb-sad-3.csv\n",
      "Creating RawArray with float64 data, n_channels=6, n_times=10001\n",
      "    Range : 0 ... 10000 =      0.000 ...    10.000 secs\n",
      "Ready.\n",
      "Filtering raw data in 1 contiguous segment\n",
      "Setting up band-pass filter from 1 - 70 Hz\n",
      "\n",
      "FIR filter parameters\n",
      "---------------------\n",
      "Designing a one-pass, zero-phase, non-causal bandpass filter:\n",
      "- Windowed time-domain design (firwin) method\n",
      "- Hamming window with 0.0194 passband ripple and 53 dB stopband attenuation\n",
      "- Lower passband edge: 1.00\n",
      "- Lower transition bandwidth: 1.00 Hz (-6 dB cutoff frequency: 0.50 Hz)\n",
      "- Upper passband edge: 70.00 Hz\n",
      "- Upper transition bandwidth: 17.50 Hz (-6 dB cutoff frequency: 78.75 Hz)\n",
      "- Filter length: 3301 samples (3.301 sec)\n",
      "\n",
      "subjectb-fear-3.csv\n",
      "Creating RawArray with float64 data, n_channels=6, n_times=22001\n",
      "    Range : 0 ... 22000 =      0.000 ...    22.000 secs\n",
      "Ready.\n",
      "Filtering raw data in 1 contiguous segment\n",
      "Setting up band-pass filter from 1 - 70 Hz\n",
      "\n",
      "FIR filter parameters\n",
      "---------------------\n",
      "Designing a one-pass, zero-phase, non-causal bandpass filter:\n",
      "- Windowed time-domain design (firwin) method\n",
      "- Hamming window with 0.0194 passband ripple and 53 dB stopband attenuation\n",
      "- Lower passband edge: 1.00\n",
      "- Lower transition bandwidth: 1.00 Hz (-6 dB cutoff frequency: 0.50 Hz)\n",
      "- Upper passband edge: 70.00 Hz\n",
      "- Upper transition bandwidth: 17.50 Hz (-6 dB cutoff frequency: 78.75 Hz)\n",
      "- Filter length: 3301 samples (3.301 sec)\n",
      "\n",
      "subjectb-sad-4.csv\n",
      "Creating RawArray with float64 data, n_channels=6, n_times=43401\n",
      "    Range : 0 ... 43400 =      0.000 ...    43.400 secs\n",
      "Ready.\n",
      "Filtering raw data in 1 contiguous segment\n",
      "Setting up band-pass filter from 1 - 70 Hz\n",
      "\n",
      "FIR filter parameters\n",
      "---------------------\n",
      "Designing a one-pass, zero-phase, non-causal bandpass filter:\n",
      "- Windowed time-domain design (firwin) method\n",
      "- Hamming window with 0.0194 passband ripple and 53 dB stopband attenuation\n",
      "- Lower passband edge: 1.00\n",
      "- Lower transition bandwidth: 1.00 Hz (-6 dB cutoff frequency: 0.50 Hz)\n",
      "- Upper passband edge: 70.00 Hz\n",
      "- Upper transition bandwidth: 17.50 Hz (-6 dB cutoff frequency: 78.75 Hz)\n",
      "- Filter length: 3301 samples (3.301 sec)\n",
      "\n",
      "subjectb-sad-5.csv\n",
      "Creating RawArray with float64 data, n_channels=6, n_times=33801\n",
      "    Range : 0 ... 33800 =      0.000 ...    33.800 secs\n",
      "Ready.\n",
      "Filtering raw data in 1 contiguous segment\n",
      "Setting up band-pass filter from 1 - 70 Hz\n",
      "\n",
      "FIR filter parameters\n",
      "---------------------\n",
      "Designing a one-pass, zero-phase, non-causal bandpass filter:\n",
      "- Windowed time-domain design (firwin) method\n",
      "- Hamming window with 0.0194 passband ripple and 53 dB stopband attenuation\n",
      "- Lower passband edge: 1.00\n",
      "- Lower transition bandwidth: 1.00 Hz (-6 dB cutoff frequency: 0.50 Hz)\n",
      "- Upper passband edge: 70.00 Hz\n",
      "- Upper transition bandwidth: 17.50 Hz (-6 dB cutoff frequency: 78.75 Hz)\n",
      "- Filter length: 3301 samples (3.301 sec)\n",
      "\n",
      "subjectb-sad-6.csv\n",
      "Creating RawArray with float64 data, n_channels=6, n_times=51801\n",
      "    Range : 0 ... 51800 =      0.000 ...    51.800 secs\n",
      "Ready.\n",
      "Filtering raw data in 1 contiguous segment\n",
      "Setting up band-pass filter from 1 - 70 Hz\n",
      "\n",
      "FIR filter parameters\n",
      "---------------------\n",
      "Designing a one-pass, zero-phase, non-causal bandpass filter:\n",
      "- Windowed time-domain design (firwin) method\n",
      "- Hamming window with 0.0194 passband ripple and 53 dB stopband attenuation\n",
      "- Lower passband edge: 1.00\n",
      "- Lower transition bandwidth: 1.00 Hz (-6 dB cutoff frequency: 0.50 Hz)\n",
      "- Upper passband edge: 70.00 Hz\n",
      "- Upper transition bandwidth: 17.50 Hz (-6 dB cutoff frequency: 78.75 Hz)\n",
      "- Filter length: 3301 samples (3.301 sec)\n",
      "\n",
      "subjectb-fear-4.csv\n",
      "Creating RawArray with float64 data, n_channels=6, n_times=28201\n",
      "    Range : 0 ... 28200 =      0.000 ...    28.200 secs\n",
      "Ready.\n",
      "Filtering raw data in 1 contiguous segment\n",
      "Setting up band-pass filter from 1 - 70 Hz\n",
      "\n",
      "FIR filter parameters\n",
      "---------------------\n",
      "Designing a one-pass, zero-phase, non-causal bandpass filter:\n",
      "- Windowed time-domain design (firwin) method\n",
      "- Hamming window with 0.0194 passband ripple and 53 dB stopband attenuation\n",
      "- Lower passband edge: 1.00\n",
      "- Lower transition bandwidth: 1.00 Hz (-6 dB cutoff frequency: 0.50 Hz)\n",
      "- Upper passband edge: 70.00 Hz\n",
      "- Upper transition bandwidth: 17.50 Hz (-6 dB cutoff frequency: 78.75 Hz)\n",
      "- Filter length: 3301 samples (3.301 sec)\n",
      "\n",
      "subjectb-happy-2.csv\n",
      "Creating RawArray with float64 data, n_channels=6, n_times=13601\n",
      "    Range : 0 ... 13600 =      0.000 ...    13.600 secs\n",
      "Ready.\n",
      "Filtering raw data in 1 contiguous segment\n",
      "Setting up band-pass filter from 1 - 70 Hz\n",
      "\n",
      "FIR filter parameters\n",
      "---------------------\n",
      "Designing a one-pass, zero-phase, non-causal bandpass filter:\n",
      "- Windowed time-domain design (firwin) method\n",
      "- Hamming window with 0.0194 passband ripple and 53 dB stopband attenuation\n",
      "- Lower passband edge: 1.00\n",
      "- Lower transition bandwidth: 1.00 Hz (-6 dB cutoff frequency: 0.50 Hz)\n",
      "- Upper passband edge: 70.00 Hz\n",
      "- Upper transition bandwidth: 17.50 Hz (-6 dB cutoff frequency: 78.75 Hz)\n",
      "- Filter length: 3301 samples (3.301 sec)\n",
      "\n",
      "subjectb-fear-5.csv\n",
      "Creating RawArray with float64 data, n_channels=6, n_times=35801\n",
      "    Range : 0 ... 35800 =      0.000 ...    35.800 secs\n",
      "Ready.\n",
      "Filtering raw data in 1 contiguous segment\n",
      "Setting up band-pass filter from 1 - 70 Hz\n",
      "\n",
      "FIR filter parameters\n",
      "---------------------\n",
      "Designing a one-pass, zero-phase, non-causal bandpass filter:\n",
      "- Windowed time-domain design (firwin) method\n",
      "- Hamming window with 0.0194 passband ripple and 53 dB stopband attenuation\n",
      "- Lower passband edge: 1.00\n",
      "- Lower transition bandwidth: 1.00 Hz (-6 dB cutoff frequency: 0.50 Hz)\n",
      "- Upper passband edge: 70.00 Hz\n",
      "- Upper transition bandwidth: 17.50 Hz (-6 dB cutoff frequency: 78.75 Hz)\n",
      "- Filter length: 3301 samples (3.301 sec)\n",
      "\n",
      "subjectb-fear-6.csv\n",
      "Creating RawArray with float64 data, n_channels=6, n_times=28001\n",
      "    Range : 0 ... 28000 =      0.000 ...    28.000 secs\n",
      "Ready.\n",
      "Filtering raw data in 1 contiguous segment\n",
      "Setting up band-pass filter from 1 - 70 Hz\n",
      "\n",
      "FIR filter parameters\n",
      "---------------------\n",
      "Designing a one-pass, zero-phase, non-causal bandpass filter:\n",
      "- Windowed time-domain design (firwin) method\n",
      "- Hamming window with 0.0194 passband ripple and 53 dB stopband attenuation\n",
      "- Lower passband edge: 1.00\n",
      "- Lower transition bandwidth: 1.00 Hz (-6 dB cutoff frequency: 0.50 Hz)\n",
      "- Upper passband edge: 70.00 Hz\n",
      "- Upper transition bandwidth: 17.50 Hz (-6 dB cutoff frequency: 78.75 Hz)\n",
      "- Filter length: 3301 samples (3.301 sec)\n",
      "\n",
      "subjectb-happy-3.csv\n",
      "Creating RawArray with float64 data, n_channels=6, n_times=9601\n",
      "    Range : 0 ... 9600 =      0.000 ...     9.600 secs\n",
      "Ready.\n",
      "Filtering raw data in 1 contiguous segment\n",
      "Setting up band-pass filter from 1 - 70 Hz\n",
      "\n",
      "FIR filter parameters\n",
      "---------------------\n",
      "Designing a one-pass, zero-phase, non-causal bandpass filter:\n",
      "- Windowed time-domain design (firwin) method\n",
      "- Hamming window with 0.0194 passband ripple and 53 dB stopband attenuation\n",
      "- Lower passband edge: 1.00\n",
      "- Lower transition bandwidth: 1.00 Hz (-6 dB cutoff frequency: 0.50 Hz)\n",
      "- Upper passband edge: 70.00 Hz\n",
      "- Upper transition bandwidth: 17.50 Hz (-6 dB cutoff frequency: 78.75 Hz)\n",
      "- Filter length: 3301 samples (3.301 sec)\n",
      "\n",
      "subjectb-happy-4.csv\n",
      "Creating RawArray with float64 data, n_channels=6, n_times=22401\n",
      "    Range : 0 ... 22400 =      0.000 ...    22.400 secs\n",
      "Ready.\n",
      "Filtering raw data in 1 contiguous segment\n",
      "Setting up band-pass filter from 1 - 70 Hz\n",
      "\n",
      "FIR filter parameters\n",
      "---------------------\n",
      "Designing a one-pass, zero-phase, non-causal bandpass filter:\n",
      "- Windowed time-domain design (firwin) method\n",
      "- Hamming window with 0.0194 passband ripple and 53 dB stopband attenuation\n",
      "- Lower passband edge: 1.00\n",
      "- Lower transition bandwidth: 1.00 Hz (-6 dB cutoff frequency: 0.50 Hz)\n",
      "- Upper passband edge: 70.00 Hz\n",
      "- Upper transition bandwidth: 17.50 Hz (-6 dB cutoff frequency: 78.75 Hz)\n",
      "- Filter length: 3301 samples (3.301 sec)\n",
      "\n",
      "subjectb-neutral-5.csv\n",
      "Creating RawArray with float64 data, n_channels=6, n_times=22401\n",
      "    Range : 0 ... 22400 =      0.000 ...    22.400 secs\n",
      "Ready.\n",
      "Filtering raw data in 1 contiguous segment\n",
      "Setting up band-pass filter from 1 - 70 Hz\n",
      "\n",
      "FIR filter parameters\n",
      "---------------------\n",
      "Designing a one-pass, zero-phase, non-causal bandpass filter:\n",
      "- Windowed time-domain design (firwin) method\n",
      "- Hamming window with 0.0194 passband ripple and 53 dB stopband attenuation\n",
      "- Lower passband edge: 1.00\n",
      "- Lower transition bandwidth: 1.00 Hz (-6 dB cutoff frequency: 0.50 Hz)\n",
      "- Upper passband edge: 70.00 Hz\n",
      "- Upper transition bandwidth: 17.50 Hz (-6 dB cutoff frequency: 78.75 Hz)\n",
      "- Filter length: 3301 samples (3.301 sec)\n",
      "\n",
      "subjectb-happy-5.csv\n",
      "Creating RawArray with float64 data, n_channels=6, n_times=35001\n",
      "    Range : 0 ... 35000 =      0.000 ...    35.000 secs\n",
      "Ready.\n",
      "Filtering raw data in 1 contiguous segment\n",
      "Setting up band-pass filter from 1 - 70 Hz\n",
      "\n",
      "FIR filter parameters\n",
      "---------------------\n",
      "Designing a one-pass, zero-phase, non-causal bandpass filter:\n",
      "- Windowed time-domain design (firwin) method\n",
      "- Hamming window with 0.0194 passband ripple and 53 dB stopband attenuation\n",
      "- Lower passband edge: 1.00\n",
      "- Lower transition bandwidth: 1.00 Hz (-6 dB cutoff frequency: 0.50 Hz)\n",
      "- Upper passband edge: 70.00 Hz\n",
      "- Upper transition bandwidth: 17.50 Hz (-6 dB cutoff frequency: 78.75 Hz)\n",
      "- Filter length: 3301 samples (3.301 sec)\n",
      "\n",
      "subjectb-neutral-6.csv\n",
      "Creating RawArray with float64 data, n_channels=6, n_times=27401\n",
      "    Range : 0 ... 27400 =      0.000 ...    27.400 secs\n",
      "Ready.\n",
      "Filtering raw data in 1 contiguous segment\n",
      "Setting up band-pass filter from 1 - 70 Hz\n",
      "\n",
      "FIR filter parameters\n",
      "---------------------\n",
      "Designing a one-pass, zero-phase, non-causal bandpass filter:\n",
      "- Windowed time-domain design (firwin) method\n",
      "- Hamming window with 0.0194 passband ripple and 53 dB stopband attenuation\n",
      "- Lower passband edge: 1.00\n",
      "- Lower transition bandwidth: 1.00 Hz (-6 dB cutoff frequency: 0.50 Hz)\n",
      "- Upper passband edge: 70.00 Hz\n",
      "- Upper transition bandwidth: 17.50 Hz (-6 dB cutoff frequency: 78.75 Hz)\n",
      "- Filter length: 3301 samples (3.301 sec)\n",
      "\n",
      "subjectb-happy-6.csv\n"
     ]
    }
   ],
   "source": [
    "ch_types = ['eeg'] * 6\n",
    "sampling_freq = 1000\n",
    "\n",
    "counter = {'0':1,'1':1,'2':1,'3':1}\n",
    "for idx,s in enumerate(session1_label):\n",
    "    # Naming\n",
    "    count = counter[str(s)]\n",
    "    counter[str(s)] =  counter[str(s)]+1\n",
    "    label = emotion_label[str(s)]\n",
    "    out_name = subject+label+'-'+str(count)+'.csv'\n",
    "    # subject = 'subjecta-'\n",
    "    # trial = 'cz_eeg'+str(idx+1)\n",
    "    subject = 'subjectb-'\n",
    "    trial = 'ha_eeg'+str(idx+1)\n",
    "    #\n",
    "    # trial = subject1[0][trial]\n",
    "    trial = subject2[0][trial]\n",
    "    channel = trial[target_channels[0]]\n",
    "    channel2 = trial[target_channels[1]]\n",
    "    channel3 = trial[target_channels[2]]\n",
    "    channel4 = trial[target_channels[3]]\n",
    "    channel5 = trial[target_channels[4]]\n",
    "    channel6 = trial[target_channels[5]]\n",
    "    raw_data=np.array([channel,channel2,channel3,channel4,channel5,channel6])\n",
    "\n",
    "    info = mne.create_info(ch_names=channel_mapping,\n",
    "                       ch_types=ch_types,\n",
    "                       sfreq=sampling_freq)\n",
    "    simulated_raw = mne.io.RawArray(raw_data, info)\n",
    "    FFTed_signal = simulated_raw.filter(1, 70., fir_design='firwin')\n",
    "    resampled_signal = FFTed_signal.resample(150, npad=\"auto\")\n",
    "    times = np.array([resampled_signal.times]).T\n",
    "\n",
    "    # Write file\n",
    "    header = ['timestamps', 'FT7','FT8','T7','T8','TP7','TP8']\n",
    "    render_data = np.hstack((times,resampled_signal.get_data().T))\n",
    "    render_data = np.vstack((header,render_data))\n",
    "    np.savetxt('output/'+out_name, render_data, delimiter=\",\",fmt='%s')\n",
    "    print(out_name)\n"
   ],
   "metadata": {
    "collapsed": false,
    "pycharm": {
     "name": "#%%\n"
    }
   }
  },
  {
   "cell_type": "code",
   "execution_count": 39,
   "metadata": {
    "pycharm": {
     "name": "#%%\n"
    }
   },
   "outputs": [
    {
     "data": {
      "text/plain": "array([[30.42817116, 28.10359001, 37.69993782, ..., 12.72559166,\n        12.15934753, 13.41104507],\n       [17.22574234, 14.7819519 , 28.13339233, ..., 13.14282417,\n        17.1661377 , 18.53704453],\n       [26.55386925, 30.42817116, 34.66010094, ..., 12.18914986,\n        13.32163811, 11.20567322],\n       [15.22898674, 16.39127731, 23.75245094, ..., 12.04013824,\n        14.7819519 , 15.7058239 ],\n       [21.10004425, 18.53704453, 25.1531601 , ..., 10.34140587,\n         9.1791153 ,  7.56978989],\n       [14.96076584, 16.59989357, 23.57363701, ..., 12.04013824,\n        15.02037048, 14.27531242]])"
     },
     "execution_count": 39,
     "metadata": {},
     "output_type": "execute_result"
    }
   ],
   "source": [
    "subjects = [loadmat(file1[0])]\n",
    "# for file in files:\n",
    "data = np.array(subjects)\n",
    "trial_no = 0\n",
    "session1_label[trial_no]\n",
    "trial = data[trial_no]['cz_eeg1']\n",
    "channel = trial[target_channels[0]]\n",
    "channel2 = trial[target_channels[1]]\n",
    "channel3 = trial[target_channels[2]]\n",
    "channel4 = trial[target_channels[3]]\n",
    "channel5 = trial[target_channels[4]]\n",
    "channel6 = trial[target_channels[5]]\n",
    "\n",
    "raw_data=np.array([channel,channel2,channel3,channel4,channel5,channel6])\n",
    "raw_data"
   ]
  },
  {
   "cell_type": "markdown",
   "metadata": {
    "pycharm": {
     "name": "#%% md\n"
    }
   },
   "source": [
    "### Create MNE object"
   ]
  },
  {
   "cell_type": "code",
   "execution_count": 40,
   "metadata": {
    "pycharm": {
     "name": "#%%\n"
    }
   },
   "outputs": [
    {
     "data": {
      "text/plain": "<Info | 8 non-empty values\n bads: []\n ch_names: FT7, FT8, T7, T8, TP7, TP8\n chs: 6 EEG\n custom_ref_applied: False\n dig: 9 items (3 Cardinal, 6 EEG)\n highpass: 0.0 Hz\n lowpass: 500.0 Hz\n meas_date: unspecified\n nchan: 6\n projs: []\n sfreq: 1000.0 Hz\n>",
      "text/html": "<table class=\"table table-hover table-striped table-sm table-responsive small\">\n    <tr>\n        <th>Measurement date</th>\n        \n        <td>Unknown</td>\n        \n    </tr>\n    <tr>\n        <th>Experimenter</th>\n        \n        <td>Unknown</td>\n        \n    </tr>\n        <th>Participant</th>\n        \n        <td>Unknown</td>\n        \n    </tr>\n    <tr>\n        <th>Digitized points</th>\n        \n        <td>0 points</td>\n        \n    </tr>\n    <tr>\n        <th>Good channels</th>\n        <td>6 EEG</td>\n    </tr>\n    <tr>\n        <th>Bad channels</th>\n        <td>None</td>\n    </tr>\n    <tr>\n        <th>EOG channels</th>\n        <td>Not available</td>\n    </tr>\n    <tr>\n        <th>ECG channels</th>\n        <td>Not available</td>\n    \n    <tr>\n        <th>Sampling frequency</th>\n        <td>1000.00 Hz</td>\n    </tr>\n    \n    \n    <tr>\n        <th>Highpass</th>\n        <td>0.00 Hz</td>\n    </tr>\n    \n    \n    <tr>\n        <th>Lowpass</th>\n        <td>500.00 Hz</td>\n    </tr>\n    \n    \n</table>"
     },
     "execution_count": 40,
     "metadata": {},
     "output_type": "execute_result"
    }
   ],
   "source": [
    "\n",
    "ch_types = ['eeg'] * 6\n",
    "sampling_freq = 1000\n",
    "\n",
    "info = mne.create_info(channel_mapping, ch_types=ch_types, sfreq=sampling_freq)\n",
    "info.set_montage('standard_1020')\n",
    "\n"
   ]
  },
  {
   "cell_type": "code",
   "execution_count": 40,
   "metadata": {
    "pycharm": {
     "name": "#%%\n"
    }
   },
   "outputs": [],
   "source": []
  },
  {
   "cell_type": "code",
   "execution_count": 43,
   "metadata": {
    "pycharm": {
     "name": "#%%\n"
    }
   },
   "outputs": [
    {
     "name": "stdout",
     "output_type": "stream",
     "text": [
      "Creating RawArray with float64 data, n_channels=6, n_times=33601\n",
      "    Range : 0 ... 33600 =      0.000 ...    33.600 secs\n",
      "Ready.\n",
      "Filtering raw data in 1 contiguous segment\n",
      "Setting up band-pass filter from 1 - 70 Hz\n",
      "\n",
      "FIR filter parameters\n",
      "---------------------\n",
      "Designing a one-pass, zero-phase, non-causal bandpass filter:\n",
      "- Windowed time-domain design (firwin) method\n",
      "- Hamming window with 0.0194 passband ripple and 53 dB stopband attenuation\n",
      "- Lower passband edge: 1.00\n",
      "- Lower transition bandwidth: 1.00 Hz (-6 dB cutoff frequency: 0.50 Hz)\n",
      "- Upper passband edge: 70.00 Hz\n",
      "- Upper transition bandwidth: 17.50 Hz (-6 dB cutoff frequency: 78.75 Hz)\n",
      "- Filter length: 3301 samples (3.301 sec)\n",
      "\n"
     ]
    },
    {
     "ename": "AttributeError",
     "evalue": "'function' object has no attribute 'shape'",
     "output_type": "error",
     "traceback": [
      "\u001B[0;31m---------------------------------------------------------------------------\u001B[0m",
      "\u001B[0;31mAttributeError\u001B[0m                            Traceback (most recent call last)",
      "Input \u001B[0;32mIn [43]\u001B[0m, in \u001B[0;36m<cell line: 7>\u001B[0;34m()\u001B[0m\n\u001B[1;32m      5\u001B[0m FFTed_signal \u001B[38;5;241m=\u001B[39m simulated_raw\u001B[38;5;241m.\u001B[39mfilter(\u001B[38;5;241m1\u001B[39m, \u001B[38;5;241m70.\u001B[39m, fir_design\u001B[38;5;241m=\u001B[39m\u001B[38;5;124m'\u001B[39m\u001B[38;5;124mfirwin\u001B[39m\u001B[38;5;124m'\u001B[39m)\n\u001B[1;32m      6\u001B[0m resampled_signal \u001B[38;5;241m=\u001B[39m FFTed_signal\u001B[38;5;241m.\u001B[39mresample(\u001B[38;5;241m150\u001B[39m, npad\u001B[38;5;241m=\u001B[39m\u001B[38;5;124m\"\u001B[39m\u001B[38;5;124mauto\u001B[39m\u001B[38;5;124m\"\u001B[39m)  \u001B[38;5;66;03m# set sampling frequency to 100Hz\u001B[39;00m\n\u001B[0;32m----> 7\u001B[0m \u001B[43mresampled_signal\u001B[49m\u001B[38;5;241;43m.\u001B[39;49m\u001B[43mget_data\u001B[49m\u001B[38;5;241;43m.\u001B[39;49m\u001B[43mshape\u001B[49m\n",
      "\u001B[0;31mAttributeError\u001B[0m: 'function' object has no attribute 'shape'"
     ]
    }
   ],
   "source": [
    "info = mne.create_info(ch_names=channel_mapping,\n",
    "                       ch_types=ch_types,\n",
    "                       sfreq=sampling_freq)\n",
    "simulated_raw = mne.io.RawArray(raw_data, info)\n",
    "FFTed_signal = simulated_raw.filter(1, 70., fir_design='firwin')\n",
    "resampled_signal = FFTed_signal.resample(150, npad=\"auto\")  # set sampling frequency to 100Hz\n"
   ]
  },
  {
   "cell_type": "code",
   "execution_count": 80,
   "outputs": [],
   "source": [
    "resampled_signal.get_data().T.shape\n",
    "times = np.array([resampled_signal.times]).T\n",
    "render_data = np.hstack((times,resampled_signal.get_data().T))"
   ],
   "metadata": {
    "collapsed": false,
    "pycharm": {
     "name": "#%%\n"
    }
   }
  },
  {
   "cell_type": "code",
   "execution_count": 84,
   "outputs": [],
   "source": [
    "header = np.array(['timestamps', 'FT7','FT8','T7','T8','TP7','TP8'])"
   ],
   "metadata": {
    "collapsed": false,
    "pycharm": {
     "name": "#%%\n"
    }
   }
  },
  {
   "cell_type": "code",
   "execution_count": 86,
   "outputs": [],
   "source": [
    "render_data = np.vstack((header,render_data))"
   ],
   "metadata": {
    "collapsed": false,
    "pycharm": {
     "name": "#%%\n"
    }
   }
  },
  {
   "cell_type": "code",
   "execution_count": 87,
   "outputs": [
    {
     "data": {
      "text/plain": "array([['timestamps', 'FT7', 'FT8', ..., 'T8', 'TP7', 'TP8'],\n       ['0.0', '0.3231370854592271', '1.133590591734884', ...,\n        '1.189295652957236', '0.5499610486477706', '1.2128452186101504'],\n       ['0.006666666666666667', '2.991708374268562',\n        '12.227270271470074', ..., '15.223193582244246',\n        '6.804479253325367', '15.693684775600781'],\n       ...,\n       ['33.58', '2.7537917746704745', '-2.5100183935135245', ...,\n        '-3.525959525204028', '1.0350052908234424', '-2.040859203607187'],\n       ['33.586666666666666', '1.087187789071921', '-7.8603025120764665',\n        ..., '-7.136301883132551', '-2.3064059270331',\n        '-5.509860694423277'],\n       ['33.593333333333334', '-2.3552714209682137',\n        '-5.247489403532302', ..., '-8.184155819819914',\n        '-2.2755058789681004', '-6.481389602536014']], dtype='<U32')"
     },
     "execution_count": 87,
     "metadata": {},
     "output_type": "execute_result"
    }
   ],
   "source": [
    "render_data"
   ],
   "metadata": {
    "collapsed": false,
    "pycharm": {
     "name": "#%%\n"
    }
   }
  },
  {
   "cell_type": "code",
   "execution_count": null,
   "outputs": [],
   "source": [],
   "metadata": {
    "collapsed": false,
    "pycharm": {
     "name": "#%%\n"
    }
   }
  }
 ],
 "metadata": {
  "interpreter": {
   "hash": "96e5d53265b94df340949bd6ef5afdc360b59f503fc29fdfbde1773c536f468a"
  },
  "kernelspec": {
   "display_name": "Python 3.9.13 64-bit ('tensorflow': conda)",
   "language": "python",
   "name": "python3913jvsc74a57bd096e5d53265b94df340949bd6ef5afdc360b59f503fc29fdfbde1773c536f468a"
  },
  "language_info": {
   "codemirror_mode": {
    "name": "ipython",
    "version": 3
   },
   "file_extension": ".py",
   "mimetype": "text/x-python",
   "name": "python",
   "nbconvert_exporter": "python",
   "pygments_lexer": "ipython3",
   "version": "3.9.13"
  }
 },
 "nbformat": 4,
 "nbformat_minor": 2
}